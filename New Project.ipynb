{
 "cells": [
  {
   "cell_type": "code",
   "execution_count": 286,
   "id": "70c7b394",
   "metadata": {},
   "outputs": [],
   "source": [
    "import pandas as pd\n",
    "import numpy as np\n",
    "import matplotlib.pyplot as plt\n",
    "from sklearn.preprocessing import StandardScaler\n",
    "import seaborn as sns\n",
    "%matplotlib inline"
   ]
  },
  {
   "cell_type": "code",
   "execution_count": 287,
   "id": "289bbb0d",
   "metadata": {},
   "outputs": [],
   "source": [
    "from statistics import mean"
   ]
  },
  {
   "cell_type": "code",
   "execution_count": 288,
   "id": "ec4726ef",
   "metadata": {},
   "outputs": [],
   "source": [
    "data = pd.read_csv('Quantities.csv') "
   ]
  },
  {
   "cell_type": "code",
   "execution_count": 289,
   "id": "90fb48b6",
   "metadata": {
    "scrolled": false
   },
   "outputs": [
    {
     "data": {
      "text/html": [
       "<div>\n",
       "<style scoped>\n",
       "    .dataframe tbody tr th:only-of-type {\n",
       "        vertical-align: middle;\n",
       "    }\n",
       "\n",
       "    .dataframe tbody tr th {\n",
       "        vertical-align: top;\n",
       "    }\n",
       "\n",
       "    .dataframe thead th {\n",
       "        text-align: right;\n",
       "    }\n",
       "</style>\n",
       "<table border=\"1\" class=\"dataframe\">\n",
       "  <thead>\n",
       "    <tr style=\"text-align: right;\">\n",
       "      <th></th>\n",
       "      <th>Mix ID</th>\n",
       "      <th>Cement(in kg)</th>\n",
       "      <th>Coarse Aggregate(kg)</th>\n",
       "      <th>Fine Aggregate(kg)</th>\n",
       "      <th>Total(W/C) ratio</th>\n",
       "      <th>Total Water(in kg)</th>\n",
       "      <th>Super Plasticizer(.5%)</th>\n",
       "      <th>Steel Fibre(kg)</th>\n",
       "      <th>Palm Data Fiber(kg)</th>\n",
       "      <th>PP Fiber(kg)</th>\n",
       "      <th>Fresh Density(kg/m3)</th>\n",
       "      <th>Vf</th>\n",
       "    </tr>\n",
       "  </thead>\n",
       "  <tbody>\n",
       "    <tr>\n",
       "      <th>0</th>\n",
       "      <td>M0</td>\n",
       "      <td>400</td>\n",
       "      <td>1105.4</td>\n",
       "      <td>736.93</td>\n",
       "      <td>0.441</td>\n",
       "      <td>176.4</td>\n",
       "      <td>2</td>\n",
       "      <td>0.0</td>\n",
       "      <td>0.00</td>\n",
       "      <td>0.0</td>\n",
       "      <td>2420.73</td>\n",
       "      <td>0.0</td>\n",
       "    </tr>\n",
       "    <tr>\n",
       "      <th>1</th>\n",
       "      <td>M1</td>\n",
       "      <td>400</td>\n",
       "      <td>1105.4</td>\n",
       "      <td>736.93</td>\n",
       "      <td>0.441</td>\n",
       "      <td>176.4</td>\n",
       "      <td>2</td>\n",
       "      <td>15.7</td>\n",
       "      <td>NaN</td>\n",
       "      <td>NaN</td>\n",
       "      <td>2436.43</td>\n",
       "      <td>0.2</td>\n",
       "    </tr>\n",
       "    <tr>\n",
       "      <th>2</th>\n",
       "      <td>M2</td>\n",
       "      <td>400</td>\n",
       "      <td>1105.4</td>\n",
       "      <td>736.93</td>\n",
       "      <td>0.441</td>\n",
       "      <td>176.4</td>\n",
       "      <td>2</td>\n",
       "      <td>47.1</td>\n",
       "      <td>NaN</td>\n",
       "      <td>NaN</td>\n",
       "      <td>2467.83</td>\n",
       "      <td>0.6</td>\n",
       "    </tr>\n",
       "    <tr>\n",
       "      <th>3</th>\n",
       "      <td>M3</td>\n",
       "      <td>400</td>\n",
       "      <td>1105.4</td>\n",
       "      <td>736.93</td>\n",
       "      <td>0.441</td>\n",
       "      <td>176.4</td>\n",
       "      <td>2</td>\n",
       "      <td>78.5</td>\n",
       "      <td>NaN</td>\n",
       "      <td>NaN</td>\n",
       "      <td>2499.23</td>\n",
       "      <td>1.0</td>\n",
       "    </tr>\n",
       "    <tr>\n",
       "      <th>4</th>\n",
       "      <td>M4</td>\n",
       "      <td>400</td>\n",
       "      <td>1105.4</td>\n",
       "      <td>736.93</td>\n",
       "      <td>0.441</td>\n",
       "      <td>176.4</td>\n",
       "      <td>2</td>\n",
       "      <td>NaN</td>\n",
       "      <td>1.84</td>\n",
       "      <td>NaN</td>\n",
       "      <td>2422.57</td>\n",
       "      <td>0.2</td>\n",
       "    </tr>\n",
       "  </tbody>\n",
       "</table>\n",
       "</div>"
      ],
      "text/plain": [
       "  Mix ID  Cement(in kg)  Coarse Aggregate(kg)  Fine Aggregate(kg)  \\\n",
       "0     M0            400                1105.4              736.93   \n",
       "1     M1            400                1105.4              736.93   \n",
       "2     M2            400                1105.4              736.93   \n",
       "3     M3            400                1105.4              736.93   \n",
       "4     M4            400                1105.4              736.93   \n",
       "\n",
       "   Total(W/C) ratio  Total Water(in kg)  Super Plasticizer(.5%)  \\\n",
       "0             0.441               176.4                       2   \n",
       "1             0.441               176.4                       2   \n",
       "2             0.441               176.4                       2   \n",
       "3             0.441               176.4                       2   \n",
       "4             0.441               176.4                       2   \n",
       "\n",
       "   Steel Fibre(kg)  Palm Data Fiber(kg)  PP Fiber(kg)  Fresh Density(kg/m3)  \\\n",
       "0              0.0                 0.00           0.0               2420.73   \n",
       "1             15.7                  NaN           NaN               2436.43   \n",
       "2             47.1                  NaN           NaN               2467.83   \n",
       "3             78.5                  NaN           NaN               2499.23   \n",
       "4              NaN                 1.84           NaN               2422.57   \n",
       "\n",
       "    Vf  \n",
       "0  0.0  \n",
       "1  0.2  \n",
       "2  0.6  \n",
       "3  1.0  \n",
       "4  0.2  "
      ]
     },
     "execution_count": 289,
     "metadata": {},
     "output_type": "execute_result"
    }
   ],
   "source": [
    "data.head()"
   ]
  },
  {
   "cell_type": "markdown",
   "id": "6beb4a4a",
   "metadata": {},
   "source": [
    "#  Calculate the Percent change wrt to Mo"
   ]
  },
  {
   "cell_type": "code",
   "execution_count": 290,
   "id": "6e1e14f6",
   "metadata": {},
   "outputs": [],
   "source": [
    "def Change(dataset):\n",
    "    dataset['Percent Change']=\"\"\n",
    "    s= data1['Average'].size\n",
    "    for i in range(s):\n",
    "        dataset['Percent Change'][i] = (( dataset['Average'][i]-dataset['Average'][0])/ dataset['Average'][0])*100\n",
    "    return \n"
   ]
  },
  {
   "cell_type": "markdown",
   "id": "6d2352f1",
   "metadata": {},
   "source": [
    "# Material plot wrt to Volume fraction taking into account the sample variablity "
   ]
  },
  {
   "cell_type": "code",
   "execution_count": 291,
   "id": "c64924eb",
   "metadata": {},
   "outputs": [],
   "source": [
    "def plot(dataset,i,I):\n",
    "    if i!=5:\n",
    "     dataset['SD']= dataset[['S1','S2','S3']].std(axis=1) \n",
    "    else:\n",
    "     dataset['SD']= dataset[['S1','S2']].std(axis=1)\n",
    "    x = np.arange(3)\n",
    "    y = 0\n",
    "    P = [dataset['Average']['M1'],dataset['Average']['M2'],dataset['Average']['M3']]\n",
    "    Q = [ dataset['Average']['M4'],dataset['Average']['M5'],dataset['Average']['M6']]\n",
    "    R= [ dataset['Average']['M7'],dataset['Average']['M8'],dataset['Average']['M9']]\n",
    "    c1=[dataset['SD']['M1'],dataset['SD']['M2'],dataset['SD']['M3']]\n",
    "    c2 = [ dataset['SD']['M4'],dataset['SD']['M5'],dataset['SD']['M6']]\n",
    "    c3= [ dataset['SD']['M7'],dataset['SD']['M8'],dataset['SD']['M9']]\n",
    "    print(c1)\n",
    "    print(c2)\n",
    "    print(c3)\n",
    "    width = 0.2\n",
    "    plt.plot(x-0.2, P, width, color='cyan')\n",
    "    plt.plot(x, Q, width, color='orange')\n",
    "    plt.plot(x+0.2, R, width, color='green')\n",
    "    plt.errorbar(x-0.2, P, yerr=c1, fmt=\"o\", color=\"r\")\n",
    "    plt.errorbar(x, Q, yerr=c2, fmt=\"o\", color=\"blue\")\n",
    "    plt.errorbar(x+0.2, R, yerr=c3, fmt=\"o\", color=\"black\")\n",
    "    width = 0.2\n",
    "    width = 0.2\n",
    "    width = 0.2\n",
    "    plt.xlabel(\"Materials\")\n",
    "    plt.ylabel(I[i])\n",
    "    plt.xticks(x, ['VF1', 'VF2', 'VF3'])\n",
    "    plt.legend(['SF', 'DPE', 'PPE'],loc=\"upper center\", bbox_to_anchor=(0.5, 1.15), ncol=3)\n",
    "    \n",
    "\n",
    "    plt.show()\n",
    "    return P,Q,R"
   ]
  },
  {
   "cell_type": "code",
   "execution_count": 292,
   "id": "cf41498d",
   "metadata": {},
   "outputs": [],
   "source": [
    "I1 = ['CS', 'D', 'USPV', 'FS', 'WP', 'WA']"
   ]
  },
  {
   "cell_type": "code",
   "execution_count": 293,
   "id": "39714456",
   "metadata": {},
   "outputs": [],
   "source": [
    "Iall = ['CS','D','WA','USPV','FS']"
   ]
  },
  {
   "cell_type": "markdown",
   "id": "d7db2509",
   "metadata": {},
   "source": [
    "# Test 1 :Water curing "
   ]
  },
  {
   "cell_type": "markdown",
   "id": "7f640d02",
   "metadata": {},
   "source": [
    "# Result 1:Compressive Strength"
   ]
  },
  {
   "cell_type": "code",
   "execution_count": 294,
   "id": "9f7e7090",
   "metadata": {
    "scrolled": false
   },
   "outputs": [
    {
     "data": {
      "text/html": [
       "<div>\n",
       "<style scoped>\n",
       "    .dataframe tbody tr th:only-of-type {\n",
       "        vertical-align: middle;\n",
       "    }\n",
       "\n",
       "    .dataframe tbody tr th {\n",
       "        vertical-align: top;\n",
       "    }\n",
       "\n",
       "    .dataframe thead th {\n",
       "        text-align: right;\n",
       "    }\n",
       "</style>\n",
       "<table border=\"1\" class=\"dataframe\">\n",
       "  <thead>\n",
       "    <tr style=\"text-align: right;\">\n",
       "      <th></th>\n",
       "      <th>S1</th>\n",
       "      <th>S2</th>\n",
       "      <th>S3</th>\n",
       "      <th>Average</th>\n",
       "      <th>SD</th>\n",
       "    </tr>\n",
       "  </thead>\n",
       "  <tbody>\n",
       "    <tr>\n",
       "      <th>M0</th>\n",
       "      <td>64.641</td>\n",
       "      <td>64.04</td>\n",
       "      <td>64.89</td>\n",
       "      <td>64.5</td>\n",
       "      <td>0.436979</td>\n",
       "    </tr>\n",
       "    <tr>\n",
       "      <th>M1</th>\n",
       "      <td>58.390</td>\n",
       "      <td>67.19</td>\n",
       "      <td>66.83</td>\n",
       "      <td>64.1</td>\n",
       "      <td>4.980013</td>\n",
       "    </tr>\n",
       "    <tr>\n",
       "      <th>M2</th>\n",
       "      <td>62.530</td>\n",
       "      <td>62.34</td>\n",
       "      <td>66.40</td>\n",
       "      <td>63.8</td>\n",
       "      <td>2.291164</td>\n",
       "    </tr>\n",
       "    <tr>\n",
       "      <th>M3</th>\n",
       "      <td>60.100</td>\n",
       "      <td>65.30</td>\n",
       "      <td>64.30</td>\n",
       "      <td>63.2</td>\n",
       "      <td>2.759227</td>\n",
       "    </tr>\n",
       "    <tr>\n",
       "      <th>M4</th>\n",
       "      <td>59.100</td>\n",
       "      <td>57.20</td>\n",
       "      <td>58.10</td>\n",
       "      <td>58.1</td>\n",
       "      <td>0.950438</td>\n",
       "    </tr>\n",
       "  </tbody>\n",
       "</table>\n",
       "</div>"
      ],
      "text/plain": [
       "        S1     S2     S3  Average        SD\n",
       "M0  64.641  64.04  64.89     64.5  0.436979\n",
       "M1  58.390  67.19  66.83     64.1  4.980013\n",
       "M2  62.530  62.34  66.40     63.8  2.291164\n",
       "M3  60.100  65.30  64.30     63.2  2.759227\n",
       "M4  59.100  57.20  58.10     58.1  0.950438"
      ]
     },
     "execution_count": 294,
     "metadata": {},
     "output_type": "execute_result"
    }
   ],
   "source": [
    "data1 =  pd.DataFrame({\n",
    "    \"S1\":[64.641,58.39,62.53,60.1,59.1,54.5,70.8,71.03,64.27,54.6],\n",
    "    \"S2\":[64.04,67.19,62.34,65.3,57.2,55.4,72.34,71.63,50.3,56.6],\n",
    "    \"S3\":[64.89,66.83,66.4,64.3,58.1,55.1,64.38,67.55,68.86,66.2],\n",
    "    \"Average\":[64.5,64.1,63.8,63.2,58.1,55.0,69.2,70.1,66.6,55.6],\n",
    "    \"SD\" : [0.436978642,4.980013387,2.291164187,2.759226945,0.950438495,0.458257569,4.221958471,2.20290717,3.245620126,1.414213562]\n",
    "     }, index =[\"M0\",\"M1\",\"M2\",\"M3\",\"M4\",\"M5\",\"M6\",\"M7\",\"M8\",\"M9\"])\n",
    "data1.head()"
   ]
  },
  {
   "cell_type": "code",
   "execution_count": 295,
   "id": "9e849dc4",
   "metadata": {},
   "outputs": [],
   "source": [
    "rowdata1 = data1.loc[ 'M8' , :]"
   ]
  },
  {
   "cell_type": "code",
   "execution_count": 296,
   "id": "cc365483",
   "metadata": {},
   "outputs": [
    {
     "data": {
      "text/plain": [
       "66.565"
      ]
     },
     "execution_count": 296,
     "metadata": {},
     "output_type": "execute_result"
    }
   ],
   "source": [
    "rowdata1['S2'] = (rowdata1['S1']+ rowdata1['S3'])/2\n",
    "rowdata1['S2']"
   ]
  },
  {
   "cell_type": "code",
   "execution_count": 297,
   "id": "47110aa2",
   "metadata": {},
   "outputs": [],
   "source": [
    "rowdata11 = data1.loc[ 'M9' , :]"
   ]
  },
  {
   "cell_type": "code",
   "execution_count": 298,
   "id": "839ba13e",
   "metadata": {},
   "outputs": [
    {
     "name": "stdout",
     "output_type": "stream",
     "text": [
      "S1         54.600000\n",
      "S2         56.600000\n",
      "S3         55.600000\n",
      "Average    55.600000\n",
      "SD          1.414214\n",
      "Name: M9, dtype: float64\n"
     ]
    }
   ],
   "source": [
    "rowdata11['S3'] = (rowdata11['S1'] + rowdata11['S2'])/2\n",
    "print(rowdata11)"
   ]
  },
  {
   "cell_type": "code",
   "execution_count": 299,
   "id": "1b28e1c1",
   "metadata": {},
   "outputs": [
    {
     "data": {
      "text/plain": [
       "66.565"
      ]
     },
     "execution_count": 299,
     "metadata": {},
     "output_type": "execute_result"
    }
   ],
   "source": [
    "rowdata1['Average']= (rowdata1['S1'] + rowdata1['S2'] + rowdata1['S3'])/3\n",
    "rowdata1['Average']"
   ]
  },
  {
   "cell_type": "code",
   "execution_count": 300,
   "id": "616e4575",
   "metadata": {
    "scrolled": true
   },
   "outputs": [
    {
     "data": {
      "text/plain": [
       "55.6"
      ]
     },
     "execution_count": 300,
     "metadata": {},
     "output_type": "execute_result"
    }
   ],
   "source": [
    "rowdata11['Average']= (rowdata11['S1'] + rowdata11['S2'] + rowdata11['S3'])/3\n",
    "rowdata11['Average']"
   ]
  },
  {
   "cell_type": "code",
   "execution_count": 301,
   "id": "f2f606b6",
   "metadata": {
    "scrolled": true
   },
   "outputs": [
    {
     "data": {
      "text/plain": [
       "1.8738596532291325"
      ]
     },
     "execution_count": 301,
     "metadata": {},
     "output_type": "execute_result"
    }
   ],
   "source": [
    " \n",
    "rowdata1['SD'] = np.array([rowdata1['S1'] , rowdata1['S2'],rowdata1['S3']]).std()\n",
    "rowdata1['SD']"
   ]
  },
  {
   "cell_type": "code",
   "execution_count": 302,
   "id": "9124ea95",
   "metadata": {},
   "outputs": [
    {
     "data": {
      "text/plain": [
       "0.816496580927726"
      ]
     },
     "execution_count": 302,
     "metadata": {},
     "output_type": "execute_result"
    }
   ],
   "source": [
    "rowdata11['SD'] = np.array([rowdata11['S1'] , rowdata11['S2'],rowdata11['S3']]).std()\n",
    "rowdata11['SD']"
   ]
  },
  {
   "cell_type": "markdown",
   "id": "65f83bd9",
   "metadata": {},
   "source": [
    "# VF1 - PPE, VF2-PPE, VF3-DPE as per VF\n",
    "   "
   ]
  },
  {
   "cell_type": "code",
   "execution_count": 303,
   "id": "0afaaf70",
   "metadata": {},
   "outputs": [
    {
     "data": {
      "text/plain": [
       "63.699999999999996"
      ]
     },
     "execution_count": 303,
     "metadata": {},
     "output_type": "execute_result"
    }
   ],
   "source": [
    "SF1= (data1['Average']['M1'] + data1['Average']['M2'] + data1['Average']['M3'])/3\n",
    "SF1"
   ]
  },
  {
   "cell_type": "code",
   "execution_count": 304,
   "id": "f67abef8",
   "metadata": {},
   "outputs": [
    {
     "data": {
      "text/plain": [
       "60.76666666666667"
      ]
     },
     "execution_count": 304,
     "metadata": {},
     "output_type": "execute_result"
    }
   ],
   "source": [
    "DPE1= (data1['Average']['M4'] + data1['Average']['M5'] + data1['Average']['M6'])/3\n",
    "DPE1"
   ]
  },
  {
   "cell_type": "code",
   "execution_count": 305,
   "id": "cad77e53",
   "metadata": {},
   "outputs": [
    {
     "data": {
      "text/plain": [
       "64.08833333333332"
      ]
     },
     "execution_count": 305,
     "metadata": {},
     "output_type": "execute_result"
    }
   ],
   "source": [
    "PPE1= (data1['Average']['M7'] + data1['Average']['M8'] + data1['Average']['M9'])/3\n",
    "PPE1"
   ]
  },
  {
   "cell_type": "markdown",
   "id": "4eb36cf9",
   "metadata": {},
   "source": [
    "# DPE< SF< PPE in comparitive Strength  across materials (Overall)\n"
   ]
  },
  {
   "cell_type": "code",
   "execution_count": 306,
   "id": "263948a4",
   "metadata": {},
   "outputs": [
    {
     "name": "stderr",
     "output_type": "stream",
     "text": [
      "<ipython-input-290-15cafe7021ec>:5: SettingWithCopyWarning: \n",
      "A value is trying to be set on a copy of a slice from a DataFrame\n",
      "\n",
      "See the caveats in the documentation: https://pandas.pydata.org/pandas-docs/stable/user_guide/indexing.html#returning-a-view-versus-a-copy\n",
      "  dataset['Percent Change'][i] = (( dataset['Average'][i]-dataset['Average'][0])/ dataset['Average'][0])*100\n"
     ]
    }
   ],
   "source": [
    " Change(data1)"
   ]
  },
  {
   "cell_type": "code",
   "execution_count": 307,
   "id": "5475abb7",
   "metadata": {},
   "outputs": [
    {
     "data": {
      "text/plain": [
       "<AxesSubplot:>"
      ]
     },
     "execution_count": 307,
     "metadata": {},
     "output_type": "execute_result"
    },
    {
     "data": {
      "image/png": "[encoded data removed]",
      "text/plain": [
       "<Figure size 432x288 with 1 Axes>"
      ]
     },
     "metadata": {
      "needs_background": "light"
     },
     "output_type": "display_data"
    }
   ],
   "source": [
    "data1['Percent Change'].plot(kind = 'barh')"
   ]
  },
  {
   "cell_type": "markdown",
   "id": "52828448",
   "metadata": {},
   "source": [
    "# Comp Strength :M7 ( PPE - VF (0.2)  is maximum while of M5( DPE - 0.6) is minimum"
   ]
  },
  {
   "cell_type": "markdown",
   "id": "d30c9aed",
   "metadata": {},
   "source": [
    "# Comp Strength :Maximum Increase  of M7,Maximum decrease M5 wrt to M0"
   ]
  },
  {
   "cell_type": "markdown",
   "id": "9b7db749",
   "metadata": {},
   "source": [
    "# Result 2: Density"
   ]
  },
  {
   "cell_type": "code",
   "execution_count": 308,
   "id": "f0f96d0b",
   "metadata": {
    "scrolled": false
   },
   "outputs": [
    {
     "data": {
      "text/html": [
       "<div>\n",
       "<style scoped>\n",
       "    .dataframe tbody tr th:only-of-type {\n",
       "        vertical-align: middle;\n",
       "    }\n",
       "\n",
       "    .dataframe tbody tr th {\n",
       "        vertical-align: top;\n",
       "    }\n",
       "\n",
       "    .dataframe thead th {\n",
       "        text-align: right;\n",
       "    }\n",
       "</style>\n",
       "<table border=\"1\" class=\"dataframe\">\n",
       "  <thead>\n",
       "    <tr style=\"text-align: right;\">\n",
       "      <th></th>\n",
       "      <th>S1</th>\n",
       "      <th>S2</th>\n",
       "      <th>S3</th>\n",
       "      <th>Average</th>\n",
       "    </tr>\n",
       "  </thead>\n",
       "  <tbody>\n",
       "    <tr>\n",
       "      <th>M0</th>\n",
       "      <td>2512.4</td>\n",
       "      <td>2509.2</td>\n",
       "      <td>2520.5</td>\n",
       "      <td>2514.0</td>\n",
       "    </tr>\n",
       "    <tr>\n",
       "      <th>M1</th>\n",
       "      <td>2543.2</td>\n",
       "      <td>2498.5</td>\n",
       "      <td>2516.3</td>\n",
       "      <td>2519.3</td>\n",
       "    </tr>\n",
       "    <tr>\n",
       "      <th>M2</th>\n",
       "      <td>2501.4</td>\n",
       "      <td>2556.9</td>\n",
       "      <td>2526.9</td>\n",
       "      <td>2528.4</td>\n",
       "    </tr>\n",
       "    <tr>\n",
       "      <th>M3</th>\n",
       "      <td>2589.9</td>\n",
       "      <td>2586.0</td>\n",
       "      <td>2589.4</td>\n",
       "      <td>2588.4</td>\n",
       "    </tr>\n",
       "    <tr>\n",
       "      <th>M4</th>\n",
       "      <td>2537.4</td>\n",
       "      <td>2535.6</td>\n",
       "      <td>2530.4</td>\n",
       "      <td>2534.5</td>\n",
       "    </tr>\n",
       "  </tbody>\n",
       "</table>\n",
       "</div>"
      ],
      "text/plain": [
       "        S1      S2      S3  Average\n",
       "M0  2512.4  2509.2  2520.5   2514.0\n",
       "M1  2543.2  2498.5  2516.3   2519.3\n",
       "M2  2501.4  2556.9  2526.9   2528.4\n",
       "M3  2589.9  2586.0  2589.4   2588.4\n",
       "M4  2537.4  2535.6  2530.4   2534.5"
      ]
     },
     "execution_count": 308,
     "metadata": {},
     "output_type": "execute_result"
    }
   ],
   "source": [
    "data2 =  pd.DataFrame({\n",
    "   \"S1\":[2512.4,2543.2,2501.4,2589.9,2537.4,2508.1,2493.3,2485.5,2496.6,2555.7],\n",
    "   \"S2\":[2509.2,2498.5,2556.9,2586.0,2535.6,2518.0,2507.3,2550.7,2471.6,2420.1],\n",
    "   \"S3\":[2520.5,2516.3,2526.9,2589.4,2530.4,2514.5,2488.4,2450.6,2461.5,2502.4],\n",
    "   \"Average\":[2514.0,2519.3,2528.4,2588.4,2534.5,2513.5,2496.3,2495.6,2476.6,2492.7]\n",
    "},index =[\"M0\",\"M1\",\"M2\",\"M3\",\"M4\",\"M5\",\"M6\",\"M7\",\"M8\",\"M9\"])\n",
    "data2.head()"
   ]
  },
  {
   "cell_type": "code",
   "execution_count": 309,
   "id": "1c1366b2",
   "metadata": {
    "scrolled": true
   },
   "outputs": [
    {
     "data": {
      "text/html": [
       "<div>\n",
       "<style scoped>\n",
       "    .dataframe tbody tr th:only-of-type {\n",
       "        vertical-align: middle;\n",
       "    }\n",
       "\n",
       "    .dataframe tbody tr th {\n",
       "        vertical-align: top;\n",
       "    }\n",
       "\n",
       "    .dataframe thead th {\n",
       "        text-align: right;\n",
       "    }\n",
       "</style>\n",
       "<table border=\"1\" class=\"dataframe\">\n",
       "  <thead>\n",
       "    <tr style=\"text-align: right;\">\n",
       "      <th></th>\n",
       "      <th>S1</th>\n",
       "      <th>S2</th>\n",
       "      <th>S3</th>\n",
       "      <th>Average</th>\n",
       "    </tr>\n",
       "  </thead>\n",
       "  <tbody>\n",
       "    <tr>\n",
       "      <th>M0</th>\n",
       "      <td>2512.4</td>\n",
       "      <td>2509.2</td>\n",
       "      <td>2520.5</td>\n",
       "      <td>2514.0</td>\n",
       "    </tr>\n",
       "    <tr>\n",
       "      <th>M1</th>\n",
       "      <td>2543.2</td>\n",
       "      <td>2498.5</td>\n",
       "      <td>2516.3</td>\n",
       "      <td>2519.3</td>\n",
       "    </tr>\n",
       "    <tr>\n",
       "      <th>M2</th>\n",
       "      <td>2501.4</td>\n",
       "      <td>2556.9</td>\n",
       "      <td>2526.9</td>\n",
       "      <td>2528.4</td>\n",
       "    </tr>\n",
       "    <tr>\n",
       "      <th>M3</th>\n",
       "      <td>2589.9</td>\n",
       "      <td>2586.0</td>\n",
       "      <td>2589.4</td>\n",
       "      <td>2588.4</td>\n",
       "    </tr>\n",
       "    <tr>\n",
       "      <th>M4</th>\n",
       "      <td>2537.4</td>\n",
       "      <td>2535.6</td>\n",
       "      <td>2530.4</td>\n",
       "      <td>2534.5</td>\n",
       "    </tr>\n",
       "    <tr>\n",
       "      <th>M5</th>\n",
       "      <td>2508.1</td>\n",
       "      <td>2518.0</td>\n",
       "      <td>2514.5</td>\n",
       "      <td>2513.5</td>\n",
       "    </tr>\n",
       "    <tr>\n",
       "      <th>M6</th>\n",
       "      <td>2493.3</td>\n",
       "      <td>2507.3</td>\n",
       "      <td>2488.4</td>\n",
       "      <td>2496.3</td>\n",
       "    </tr>\n",
       "    <tr>\n",
       "      <th>M7</th>\n",
       "      <td>2485.5</td>\n",
       "      <td>2550.7</td>\n",
       "      <td>2450.6</td>\n",
       "      <td>2495.6</td>\n",
       "    </tr>\n",
       "    <tr>\n",
       "      <th>M8</th>\n",
       "      <td>2496.6</td>\n",
       "      <td>2471.6</td>\n",
       "      <td>2461.5</td>\n",
       "      <td>2476.6</td>\n",
       "    </tr>\n",
       "    <tr>\n",
       "      <th>M9</th>\n",
       "      <td>2555.7</td>\n",
       "      <td>2420.1</td>\n",
       "      <td>2502.4</td>\n",
       "      <td>2492.7</td>\n",
       "    </tr>\n",
       "  </tbody>\n",
       "</table>\n",
       "</div>"
      ],
      "text/plain": [
       "        S1      S2      S3  Average\n",
       "M0  2512.4  2509.2  2520.5   2514.0\n",
       "M1  2543.2  2498.5  2516.3   2519.3\n",
       "M2  2501.4  2556.9  2526.9   2528.4\n",
       "M3  2589.9  2586.0  2589.4   2588.4\n",
       "M4  2537.4  2535.6  2530.4   2534.5\n",
       "M5  2508.1  2518.0  2514.5   2513.5\n",
       "M6  2493.3  2507.3  2488.4   2496.3\n",
       "M7  2485.5  2550.7  2450.6   2495.6\n",
       "M8  2496.6  2471.6  2461.5   2476.6\n",
       "M9  2555.7  2420.1  2502.4   2492.7"
      ]
     },
     "execution_count": 309,
     "metadata": {},
     "output_type": "execute_result"
    }
   ],
   "source": [
    "data2"
   ]
  },
  {
   "cell_type": "markdown",
   "id": "8d239ed0",
   "metadata": {},
   "source": [
    "#  VF1 - DPE, VF2-SF, VF3-PPE (as per VF)\n",
    "  "
   ]
  },
  {
   "cell_type": "code",
   "execution_count": 310,
   "id": "105571e9",
   "metadata": {},
   "outputs": [
    {
     "data": {
      "text/plain": [
       "2545.366666666667"
      ]
     },
     "execution_count": 310,
     "metadata": {},
     "output_type": "execute_result"
    }
   ],
   "source": [
    "SF2= (data2['Average']['M1'] + data2['Average']['M2'] + data2['Average']['M3'])/3\n",
    "SF2"
   ]
  },
  {
   "cell_type": "code",
   "execution_count": 311,
   "id": "f47e5841",
   "metadata": {},
   "outputs": [
    {
     "data": {
      "text/plain": [
       "2514.766666666667"
      ]
     },
     "execution_count": 311,
     "metadata": {},
     "output_type": "execute_result"
    }
   ],
   "source": [
    "DPE2= (data2['Average']['M4'] + data2['Average']['M5'] + data2['Average']['M6'])/3\n",
    "DPE2"
   ]
  },
  {
   "cell_type": "code",
   "execution_count": 312,
   "id": "9f18f331",
   "metadata": {},
   "outputs": [
    {
     "data": {
      "text/plain": [
       "2488.2999999999997"
      ]
     },
     "execution_count": 312,
     "metadata": {},
     "output_type": "execute_result"
    }
   ],
   "source": [
    "PPE2= (data2['Average']['M7'] + data2['Average']['M8'] + data2['Average']['M9'])/3\n",
    "PPE2"
   ]
  },
  {
   "cell_type": "markdown",
   "id": "32d17f4d",
   "metadata": {},
   "source": [
    "# PPE < DPE < SF in Density (Overall)"
   ]
  },
  {
   "cell_type": "code",
   "execution_count": 313,
   "id": "19923845",
   "metadata": {},
   "outputs": [
    {
     "name": "stderr",
     "output_type": "stream",
     "text": [
      "<ipython-input-290-15cafe7021ec>:5: SettingWithCopyWarning: \n",
      "A value is trying to be set on a copy of a slice from a DataFrame\n",
      "\n",
      "See the caveats in the documentation: https://pandas.pydata.org/pandas-docs/stable/user_guide/indexing.html#returning-a-view-versus-a-copy\n",
      "  dataset['Percent Change'][i] = (( dataset['Average'][i]-dataset['Average'][0])/ dataset['Average'][0])*100\n"
     ]
    },
    {
     "data": {
      "text/plain": [
       "<AxesSubplot:>"
      ]
     },
     "execution_count": 313,
     "metadata": {},
     "output_type": "execute_result"
    },
    {
     "data": {
      "image/png": "[encoded data removed]",
      "text/plain": [
       "<Figure size 432x288 with 1 Axes>"
      ]
     },
     "metadata": {
      "needs_background": "light"
     },
     "output_type": "display_data"
    }
   ],
   "source": [
    "Change(data2)\n",
    "data2['Percent Change'].plot(kind = 'barh')"
   ]
  },
  {
   "cell_type": "markdown",
   "id": "43ae8e82",
   "metadata": {},
   "source": [
    "#  Density: Range of Values is less.M3 is maximum out of all the values ( SF- V3) best performance \n",
    "\n"
   ]
  },
  {
   "cell_type": "markdown",
   "id": "4199f676",
   "metadata": {},
   "source": [
    "# Density :Maximum percent increase in M3 ,Maximum percent decrease in M8"
   ]
  },
  {
   "cell_type": "markdown",
   "id": "d6bd0142",
   "metadata": {},
   "source": [
    "# Result 3 :USPV"
   ]
  },
  {
   "cell_type": "code",
   "execution_count": 314,
   "id": "bb23b97b",
   "metadata": {
    "scrolled": true
   },
   "outputs": [
    {
     "data": {
      "text/html": [
       "<div>\n",
       "<style scoped>\n",
       "    .dataframe tbody tr th:only-of-type {\n",
       "        vertical-align: middle;\n",
       "    }\n",
       "\n",
       "    .dataframe tbody tr th {\n",
       "        vertical-align: top;\n",
       "    }\n",
       "\n",
       "    .dataframe thead th {\n",
       "        text-align: right;\n",
       "    }\n",
       "</style>\n",
       "<table border=\"1\" class=\"dataframe\">\n",
       "  <thead>\n",
       "    <tr style=\"text-align: right;\">\n",
       "      <th></th>\n",
       "      <th>S1</th>\n",
       "      <th>S2</th>\n",
       "      <th>S3</th>\n",
       "      <th>Average</th>\n",
       "    </tr>\n",
       "  </thead>\n",
       "  <tbody>\n",
       "    <tr>\n",
       "      <th>M0</th>\n",
       "      <td>5.076142</td>\n",
       "      <td>5.000000</td>\n",
       "      <td>5.025126</td>\n",
       "      <td>5.03</td>\n",
       "    </tr>\n",
       "    <tr>\n",
       "      <th>M1</th>\n",
       "      <td>5.050505</td>\n",
       "      <td>5.181347</td>\n",
       "      <td>5.076142</td>\n",
       "      <td>5.10</td>\n",
       "    </tr>\n",
       "    <tr>\n",
       "      <th>M2</th>\n",
       "      <td>4.926108</td>\n",
       "      <td>5.000000</td>\n",
       "      <td>4.830918</td>\n",
       "      <td>4.92</td>\n",
       "    </tr>\n",
       "    <tr>\n",
       "      <th>M3</th>\n",
       "      <td>4.739336</td>\n",
       "      <td>4.926108</td>\n",
       "      <td>4.784689</td>\n",
       "      <td>4.82</td>\n",
       "    </tr>\n",
       "    <tr>\n",
       "      <th>M4</th>\n",
       "      <td>5.050505</td>\n",
       "      <td>5.076142</td>\n",
       "      <td>5.050505</td>\n",
       "      <td>5.06</td>\n",
       "    </tr>\n",
       "  </tbody>\n",
       "</table>\n",
       "</div>"
      ],
      "text/plain": [
       "          S1        S2        S3  Average\n",
       "M0  5.076142  5.000000  5.025126     5.03\n",
       "M1  5.050505  5.181347  5.076142     5.10\n",
       "M2  4.926108  5.000000  4.830918     4.92\n",
       "M3  4.739336  4.926108  4.784689     4.82\n",
       "M4  5.050505  5.076142  5.050505     5.06"
      ]
     },
     "execution_count": 314,
     "metadata": {},
     "output_type": "execute_result"
    }
   ],
   "source": [
    "data3 =  pd.DataFrame({\n",
    "    \"S1\":[5.076142,5.050505,4.926108,4.739336,5.050505,4.950495,4.926108,4.830918,4.291845,4.651163],\n",
    "    \"S2\":[5,5.181347,5,4.926108,5.076142,4.950495,5.025126,4.854369,4.761905,4.830918],\n",
    "    \"S3\":[5.025126,5.076142,4.830918,4.784689,5.050505,5,4.901961,4.950495,5.050505,4.878049],\n",
    "    \"Average\":[5.03,5.1,4.92,4.82,5.06,4.97,4.95,4.88,4.7,4.79]\n",
    "     }, index =[\"M0\",\"M1\",\"M2\",\"M3\",\"M4\",\"M5\",\"M6\",\"M7\",\"M8\",\"M9\"])\n",
    "data3.head()"
   ]
  },
  {
   "cell_type": "code",
   "execution_count": 315,
   "id": "e930d733",
   "metadata": {
    "scrolled": true
   },
   "outputs": [
    {
     "data": {
      "text/html": [
       "<div>\n",
       "<style scoped>\n",
       "    .dataframe tbody tr th:only-of-type {\n",
       "        vertical-align: middle;\n",
       "    }\n",
       "\n",
       "    .dataframe tbody tr th {\n",
       "        vertical-align: top;\n",
       "    }\n",
       "\n",
       "    .dataframe thead th {\n",
       "        text-align: right;\n",
       "    }\n",
       "</style>\n",
       "<table border=\"1\" class=\"dataframe\">\n",
       "  <thead>\n",
       "    <tr style=\"text-align: right;\">\n",
       "      <th></th>\n",
       "      <th>S1</th>\n",
       "      <th>S2</th>\n",
       "      <th>S3</th>\n",
       "      <th>Average</th>\n",
       "    </tr>\n",
       "  </thead>\n",
       "  <tbody>\n",
       "    <tr>\n",
       "      <th>M0</th>\n",
       "      <td>5.076142</td>\n",
       "      <td>5.000000</td>\n",
       "      <td>5.025126</td>\n",
       "      <td>5.03</td>\n",
       "    </tr>\n",
       "    <tr>\n",
       "      <th>M1</th>\n",
       "      <td>5.050505</td>\n",
       "      <td>5.181347</td>\n",
       "      <td>5.076142</td>\n",
       "      <td>5.10</td>\n",
       "    </tr>\n",
       "    <tr>\n",
       "      <th>M2</th>\n",
       "      <td>4.926108</td>\n",
       "      <td>5.000000</td>\n",
       "      <td>4.830918</td>\n",
       "      <td>4.92</td>\n",
       "    </tr>\n",
       "    <tr>\n",
       "      <th>M3</th>\n",
       "      <td>4.739336</td>\n",
       "      <td>4.926108</td>\n",
       "      <td>4.784689</td>\n",
       "      <td>4.82</td>\n",
       "    </tr>\n",
       "    <tr>\n",
       "      <th>M4</th>\n",
       "      <td>5.050505</td>\n",
       "      <td>5.076142</td>\n",
       "      <td>5.050505</td>\n",
       "      <td>5.06</td>\n",
       "    </tr>\n",
       "    <tr>\n",
       "      <th>M5</th>\n",
       "      <td>4.950495</td>\n",
       "      <td>4.950495</td>\n",
       "      <td>5.000000</td>\n",
       "      <td>4.97</td>\n",
       "    </tr>\n",
       "    <tr>\n",
       "      <th>M6</th>\n",
       "      <td>4.926108</td>\n",
       "      <td>5.025126</td>\n",
       "      <td>4.901961</td>\n",
       "      <td>4.95</td>\n",
       "    </tr>\n",
       "    <tr>\n",
       "      <th>M7</th>\n",
       "      <td>4.830918</td>\n",
       "      <td>4.854369</td>\n",
       "      <td>4.950495</td>\n",
       "      <td>4.88</td>\n",
       "    </tr>\n",
       "    <tr>\n",
       "      <th>M8</th>\n",
       "      <td>4.291845</td>\n",
       "      <td>4.761905</td>\n",
       "      <td>5.050505</td>\n",
       "      <td>4.70</td>\n",
       "    </tr>\n",
       "    <tr>\n",
       "      <th>M9</th>\n",
       "      <td>4.651163</td>\n",
       "      <td>4.830918</td>\n",
       "      <td>4.878049</td>\n",
       "      <td>4.79</td>\n",
       "    </tr>\n",
       "  </tbody>\n",
       "</table>\n",
       "</div>"
      ],
      "text/plain": [
       "          S1        S2        S3  Average\n",
       "M0  5.076142  5.000000  5.025126     5.03\n",
       "M1  5.050505  5.181347  5.076142     5.10\n",
       "M2  4.926108  5.000000  4.830918     4.92\n",
       "M3  4.739336  4.926108  4.784689     4.82\n",
       "M4  5.050505  5.076142  5.050505     5.06\n",
       "M5  4.950495  4.950495  5.000000     4.97\n",
       "M6  4.926108  5.025126  4.901961     4.95\n",
       "M7  4.830918  4.854369  4.950495     4.88\n",
       "M8  4.291845  4.761905  5.050505     4.70\n",
       "M9  4.651163  4.830918  4.878049     4.79"
      ]
     },
     "execution_count": 315,
     "metadata": {},
     "output_type": "execute_result"
    }
   ],
   "source": [
    "data3"
   ]
  },
  {
   "cell_type": "markdown",
   "id": "302ac2e8",
   "metadata": {},
   "source": [
    "# VF1 - SF, VF2-DPE,VF3-DPE(as per VF)"
   ]
  },
  {
   "cell_type": "code",
   "execution_count": 316,
   "id": "97c92448",
   "metadata": {},
   "outputs": [
    {
     "data": {
      "text/plain": [
       "4.946666666666666"
      ]
     },
     "execution_count": 316,
     "metadata": {},
     "output_type": "execute_result"
    }
   ],
   "source": [
    "SF3= (data3['Average']['M1'] + data3['Average']['M2'] + data3['Average']['M3'])/3\n",
    "SF3"
   ]
  },
  {
   "cell_type": "code",
   "execution_count": 317,
   "id": "d3812501",
   "metadata": {},
   "outputs": [
    {
     "data": {
      "text/plain": [
       "4.993333333333333"
      ]
     },
     "execution_count": 317,
     "metadata": {},
     "output_type": "execute_result"
    }
   ],
   "source": [
    "DPE3= (data3['Average']['M4'] + data3['Average']['M5'] + data3['Average']['M6'])/3\n",
    "DPE3"
   ]
  },
  {
   "cell_type": "code",
   "execution_count": 318,
   "id": "fb519ae5",
   "metadata": {},
   "outputs": [
    {
     "data": {
      "text/plain": [
       "4.79"
      ]
     },
     "execution_count": 318,
     "metadata": {},
     "output_type": "execute_result"
    }
   ],
   "source": [
    "PPE3 = (data3['Average']['M7'] + data3['Average']['M8'] + data3['Average']['M9'])/3\n",
    "\n",
    "PPE3"
   ]
  },
  {
   "cell_type": "markdown",
   "id": "25e02202",
   "metadata": {},
   "source": [
    "# Across materials : PPE< SF< DPE(overall)"
   ]
  },
  {
   "cell_type": "code",
   "execution_count": 319,
   "id": "8c596c72",
   "metadata": {},
   "outputs": [
    {
     "name": "stderr",
     "output_type": "stream",
     "text": [
      "<ipython-input-290-15cafe7021ec>:5: SettingWithCopyWarning: \n",
      "A value is trying to be set on a copy of a slice from a DataFrame\n",
      "\n",
      "See the caveats in the documentation: https://pandas.pydata.org/pandas-docs/stable/user_guide/indexing.html#returning-a-view-versus-a-copy\n",
      "  dataset['Percent Change'][i] = (( dataset['Average'][i]-dataset['Average'][0])/ dataset['Average'][0])*100\n"
     ]
    },
    {
     "data": {
      "text/plain": [
       "<AxesSubplot:>"
      ]
     },
     "execution_count": 319,
     "metadata": {},
     "output_type": "execute_result"
    },
    {
     "data": {
      "image/png": "[encoded data removed]",
      "text/plain": [
       "<Figure size 432x288 with 1 Axes>"
      ]
     },
     "metadata": {
      "needs_background": "light"
     },
     "output_type": "display_data"
    }
   ],
   "source": [
    "Change(data3)\n",
    "data3['Percent Change'].plot(kind = 'barh')"
   ]
  },
  {
   "cell_type": "markdown",
   "id": "e10c6ac1",
   "metadata": {},
   "source": []
  },
  {
   "cell_type": "markdown",
   "id": "7cc88eeb",
   "metadata": {},
   "source": [
    "# USPV : Maximum M1(SF- VF1),Minimum M8(MI penultimate)"
   ]
  },
  {
   "cell_type": "markdown",
   "id": "6483c389",
   "metadata": {},
   "source": [
    "# USPV : Percent increase M1,while minimum is of M8"
   ]
  },
  {
   "cell_type": "markdown",
   "id": "9626177c",
   "metadata": {},
   "source": [
    "# Result 4:Flexure"
   ]
  },
  {
   "cell_type": "code",
   "execution_count": 320,
   "id": "2b5b7862",
   "metadata": {},
   "outputs": [
    {
     "data": {
      "text/html": [
       "<div>\n",
       "<style scoped>\n",
       "    .dataframe tbody tr th:only-of-type {\n",
       "        vertical-align: middle;\n",
       "    }\n",
       "\n",
       "    .dataframe tbody tr th {\n",
       "        vertical-align: top;\n",
       "    }\n",
       "\n",
       "    .dataframe thead th {\n",
       "        text-align: right;\n",
       "    }\n",
       "</style>\n",
       "<table border=\"1\" class=\"dataframe\">\n",
       "  <thead>\n",
       "    <tr style=\"text-align: right;\">\n",
       "      <th></th>\n",
       "      <th>S1</th>\n",
       "      <th>S2</th>\n",
       "      <th>S3</th>\n",
       "      <th>Average</th>\n",
       "    </tr>\n",
       "  </thead>\n",
       "  <tbody>\n",
       "    <tr>\n",
       "      <th>M0</th>\n",
       "      <td>5.1756</td>\n",
       "      <td>5.2938</td>\n",
       "      <td>5.1375</td>\n",
       "      <td>5.2</td>\n",
       "    </tr>\n",
       "    <tr>\n",
       "      <th>M1</th>\n",
       "      <td>6.0750</td>\n",
       "      <td>6.1170</td>\n",
       "      <td>7.7850</td>\n",
       "      <td>6.7</td>\n",
       "    </tr>\n",
       "    <tr>\n",
       "      <th>M2</th>\n",
       "      <td>10.0890</td>\n",
       "      <td>8.6820</td>\n",
       "      <td>7.3530</td>\n",
       "      <td>8.7</td>\n",
       "    </tr>\n",
       "    <tr>\n",
       "      <th>M3</th>\n",
       "      <td>13.8030</td>\n",
       "      <td>15.5190</td>\n",
       "      <td>9.3030</td>\n",
       "      <td>12.9</td>\n",
       "    </tr>\n",
       "    <tr>\n",
       "      <th>M4</th>\n",
       "      <td>9.0030</td>\n",
       "      <td>8.4030</td>\n",
       "      <td>7.5180</td>\n",
       "      <td>8.3</td>\n",
       "    </tr>\n",
       "  </tbody>\n",
       "</table>\n",
       "</div>"
      ],
      "text/plain": [
       "         S1       S2      S3  Average\n",
       "M0   5.1756   5.2938  5.1375      5.2\n",
       "M1   6.0750   6.1170  7.7850      6.7\n",
       "M2  10.0890   8.6820  7.3530      8.7\n",
       "M3  13.8030  15.5190  9.3030     12.9\n",
       "M4   9.0030   8.4030  7.5180      8.3"
      ]
     },
     "execution_count": 320,
     "metadata": {},
     "output_type": "execute_result"
    }
   ],
   "source": [
    "data4 =  pd.DataFrame({\n",
    "    \"S1\":[5.1756,6.075,10.089,13.803,9.003,9.603,9.603,9.003,8.349,9.183],\n",
    "    \"S2\":[5.2938,6.117,8.682,15.519,8.403,8.91,9.003,8.703,8.403,9.003],\n",
    "    \"S3\":[5.1375,7.785,7.353,9.303,7.518,9.003,8.403,9.303,8.403,8.703],\n",
    "    \"Average\":[5.2,6.7,8.7,12.9,8.3,9.2,9.0,9.0,8.4,9.0]\n",
    "     }, index =[\"M0\",\"M1\",\"M2\",\"M3\",\"M4\",\"M5\",\"M6\",\"M7\",\"M8\",\"M9\"])\n",
    "data4.head()"
   ]
  },
  {
   "cell_type": "markdown",
   "id": "20ce5db7",
   "metadata": {},
   "source": [
    "# VF1 -PPE,VF2-DPE,VF3-SF"
   ]
  },
  {
   "cell_type": "code",
   "execution_count": 321,
   "id": "d9d0f73e",
   "metadata": {},
   "outputs": [
    {
     "data": {
      "text/plain": [
       "9.433333333333332"
      ]
     },
     "execution_count": 321,
     "metadata": {},
     "output_type": "execute_result"
    }
   ],
   "source": [
    "SF4= (data4.Average[1]+data4.Average[2]+data4.Average[3])/3\n",
    "SF4"
   ]
  },
  {
   "cell_type": "code",
   "execution_count": 322,
   "id": "4799612b",
   "metadata": {},
   "outputs": [
    {
     "data": {
      "text/plain": [
       "8.833333333333334"
      ]
     },
     "execution_count": 322,
     "metadata": {},
     "output_type": "execute_result"
    }
   ],
   "source": [
    "DPE4= (data4.Average[4]+data4.Average[5]+data4.Average[6])/3\n",
    "DPE4"
   ]
  },
  {
   "cell_type": "code",
   "execution_count": 323,
   "id": "1a9afd47",
   "metadata": {},
   "outputs": [
    {
     "data": {
      "text/plain": [
       "8.799999999999999"
      ]
     },
     "execution_count": 323,
     "metadata": {},
     "output_type": "execute_result"
    }
   ],
   "source": [
    "PPE4= (data4.Average[7]+data4.Average[8]+data4.Average[9])/3\n",
    "PPE4"
   ]
  },
  {
   "cell_type": "markdown",
   "id": "9770887a",
   "metadata": {},
   "source": [
    "# PPE< DPE< SF in Flexure Strength (Overall)"
   ]
  },
  {
   "cell_type": "code",
   "execution_count": 324,
   "id": "fbeb9a07",
   "metadata": {},
   "outputs": [
    {
     "name": "stderr",
     "output_type": "stream",
     "text": [
      "<ipython-input-290-15cafe7021ec>:5: SettingWithCopyWarning: \n",
      "A value is trying to be set on a copy of a slice from a DataFrame\n",
      "\n",
      "See the caveats in the documentation: https://pandas.pydata.org/pandas-docs/stable/user_guide/indexing.html#returning-a-view-versus-a-copy\n",
      "  dataset['Percent Change'][i] = (( dataset['Average'][i]-dataset['Average'][0])/ dataset['Average'][0])*100\n"
     ]
    },
    {
     "data": {
      "text/plain": [
       "<AxesSubplot:>"
      ]
     },
     "execution_count": 324,
     "metadata": {},
     "output_type": "execute_result"
    },
    {
     "data": {
      "image/png": "[encoded data removed]",
      "text/plain": [
       "<Figure size 432x288 with 1 Axes>"
      ]
     },
     "metadata": {
      "needs_background": "light"
     },
     "output_type": "display_data"
    }
   ],
   "source": [
    "\n",
    "Change(data4)\n",
    "data4['Percent Change'].plot(kind = 'barh')"
   ]
  },
  {
   "cell_type": "markdown",
   "id": "0b6454a0",
   "metadata": {},
   "source": [
    "# Flexure Strength: M3 is maximum while M0 is minimum (M1 is minimum of 3 materials)"
   ]
  },
  {
   "cell_type": "markdown",
   "id": "5a4e9a25",
   "metadata": {},
   "source": [
    "# Result 5:Water Permeability"
   ]
  },
  {
   "cell_type": "code",
   "execution_count": 325,
   "id": "46afb298",
   "metadata": {},
   "outputs": [
    {
     "data": {
      "text/html": [
       "<div>\n",
       "<style scoped>\n",
       "    .dataframe tbody tr th:only-of-type {\n",
       "        vertical-align: middle;\n",
       "    }\n",
       "\n",
       "    .dataframe tbody tr th {\n",
       "        vertical-align: top;\n",
       "    }\n",
       "\n",
       "    .dataframe thead th {\n",
       "        text-align: right;\n",
       "    }\n",
       "</style>\n",
       "<table border=\"1\" class=\"dataframe\">\n",
       "  <thead>\n",
       "    <tr style=\"text-align: right;\">\n",
       "      <th></th>\n",
       "      <th>S1</th>\n",
       "      <th>S2</th>\n",
       "      <th>S3</th>\n",
       "      <th>Average</th>\n",
       "    </tr>\n",
       "  </thead>\n",
       "  <tbody>\n",
       "    <tr>\n",
       "      <th>M0</th>\n",
       "      <td>5.25</td>\n",
       "      <td>4.75</td>\n",
       "      <td>4.00</td>\n",
       "      <td>4.7</td>\n",
       "    </tr>\n",
       "    <tr>\n",
       "      <th>M1</th>\n",
       "      <td>2.00</td>\n",
       "      <td>4.00</td>\n",
       "      <td>4.00</td>\n",
       "      <td>3.3</td>\n",
       "    </tr>\n",
       "    <tr>\n",
       "      <th>M2</th>\n",
       "      <td>4.75</td>\n",
       "      <td>4.00</td>\n",
       "      <td>4.00</td>\n",
       "      <td>4.3</td>\n",
       "    </tr>\n",
       "    <tr>\n",
       "      <th>M3</th>\n",
       "      <td>5.50</td>\n",
       "      <td>5.50</td>\n",
       "      <td>6.50</td>\n",
       "      <td>5.8</td>\n",
       "    </tr>\n",
       "    <tr>\n",
       "      <th>M4</th>\n",
       "      <td>4.50</td>\n",
       "      <td>5.25</td>\n",
       "      <td>6.25</td>\n",
       "      <td>5.3</td>\n",
       "    </tr>\n",
       "  </tbody>\n",
       "</table>\n",
       "</div>"
      ],
      "text/plain": [
       "      S1    S2    S3  Average\n",
       "M0  5.25  4.75  4.00      4.7\n",
       "M1  2.00  4.00  4.00      3.3\n",
       "M2  4.75  4.00  4.00      4.3\n",
       "M3  5.50  5.50  6.50      5.8\n",
       "M4  4.50  5.25  6.25      5.3"
      ]
     },
     "execution_count": 325,
     "metadata": {},
     "output_type": "execute_result"
    }
   ],
   "source": [
    "data5=  pd.DataFrame({\n",
    "    \"S1\":[5.25,2,4.75,5.5,4.5,9,10.5,4,4.5,5.25],\n",
    "    \"S2\":[4.75,4,4,5.5,5.25,8.5,12.75,4.5,5.25,5.5],\n",
    "    \"S3\":[4,4,4,6.5,6.25,10,10.75,4,5,5.5],\n",
    "    \"Average\":[4.7,3.3,4.3,5.8,5.3,9.2,11.3,4.2,4.9,5.4]\n",
    "     }, index =[\"M0\",\"M1\",\"M2\",\"M3\",\"M4\",\"M5\",\"M6\",\"M7\",\"M8\",\"M9\"])\n",
    "data5.head()"
   ]
  },
  {
   "cell_type": "markdown",
   "id": "1c38c56e",
   "metadata": {},
   "source": [
    "# Water permeability : VF1-DPE,VF2-DPE,VF3-DPE; DPE - Best performer across all volume fraction.\n"
   ]
  },
  {
   "cell_type": "code",
   "execution_count": 326,
   "id": "350376ef",
   "metadata": {},
   "outputs": [
    {
     "data": {
      "text/plain": [
       "4.466666666666666"
      ]
     },
     "execution_count": 326,
     "metadata": {},
     "output_type": "execute_result"
    }
   ],
   "source": [
    "SF5= (data5.Average[1]+data5.Average[2]+data5.Average[3])/3\n",
    "SF5"
   ]
  },
  {
   "cell_type": "code",
   "execution_count": 327,
   "id": "f55eb682",
   "metadata": {},
   "outputs": [
    {
     "data": {
      "text/plain": [
       "8.6"
      ]
     },
     "execution_count": 327,
     "metadata": {},
     "output_type": "execute_result"
    }
   ],
   "source": [
    "DPE5= (data5.Average[4]+data5.Average[5]+data5.Average[6])/3\n",
    "DPE5"
   ]
  },
  {
   "cell_type": "code",
   "execution_count": 328,
   "id": "82ffdff4",
   "metadata": {
    "scrolled": true
   },
   "outputs": [
    {
     "data": {
      "text/plain": [
       "4.833333333333334"
      ]
     },
     "execution_count": 328,
     "metadata": {},
     "output_type": "execute_result"
    }
   ],
   "source": [
    "PPE5 = (data5.Average[7]+data5.Average[8]+data5.Average[9])/3\n",
    "PPE5"
   ]
  },
  {
   "cell_type": "markdown",
   "id": "4dd84687",
   "metadata": {},
   "source": [
    "# SF< PPE< DPE(Overall); SF and PPE close to each other"
   ]
  },
  {
   "cell_type": "code",
   "execution_count": 329,
   "id": "0fd5dd20",
   "metadata": {},
   "outputs": [
    {
     "name": "stderr",
     "output_type": "stream",
     "text": [
      "<ipython-input-290-15cafe7021ec>:5: SettingWithCopyWarning: \n",
      "A value is trying to be set on a copy of a slice from a DataFrame\n",
      "\n",
      "See the caveats in the documentation: https://pandas.pydata.org/pandas-docs/stable/user_guide/indexing.html#returning-a-view-versus-a-copy\n",
      "  dataset['Percent Change'][i] = (( dataset['Average'][i]-dataset['Average'][0])/ dataset['Average'][0])*100\n"
     ]
    },
    {
     "data": {
      "text/plain": [
       "<AxesSubplot:>"
      ]
     },
     "execution_count": 329,
     "metadata": {},
     "output_type": "execute_result"
    },
    {
     "data": {
      "image/png": "[encoded data removed]",
      "text/plain": [
       "<Figure size 432x288 with 1 Axes>"
      ]
     },
     "metadata": {
      "needs_background": "light"
     },
     "output_type": "display_data"
    }
   ],
   "source": [
    "Change(data5)\n",
    "data5['Percent Change'].plot(kind = 'barh')"
   ]
  },
  {
   "cell_type": "markdown",
   "id": "d8ba9047",
   "metadata": {},
   "source": [
    "# Water Permeability : Maximum in M6( DPE-1) while minimum in M1( across materials)"
   ]
  },
  {
   "cell_type": "markdown",
   "id": "3e71332c",
   "metadata": {},
   "source": [
    "# Water permeability:Maximum increase percent in M6, decrease percent in M1"
   ]
  },
  {
   "cell_type": "markdown",
   "id": "36277959",
   "metadata": {},
   "source": [
    "# Water absorption"
   ]
  },
  {
   "cell_type": "markdown",
   "id": "45a01582",
   "metadata": {},
   "source": [
    "# Lack of data (Sample 3) "
   ]
  },
  {
   "cell_type": "markdown",
   "id": "02137692",
   "metadata": {},
   "source": [
    "# Result 6"
   ]
  },
  {
   "cell_type": "code",
   "execution_count": 330,
   "id": "16bee1fc",
   "metadata": {
    "scrolled": false
   },
   "outputs": [
    {
     "data": {
      "text/html": [
       "<div>\n",
       "<style scoped>\n",
       "    .dataframe tbody tr th:only-of-type {\n",
       "        vertical-align: middle;\n",
       "    }\n",
       "\n",
       "    .dataframe tbody tr th {\n",
       "        vertical-align: top;\n",
       "    }\n",
       "\n",
       "    .dataframe thead th {\n",
       "        text-align: right;\n",
       "    }\n",
       "</style>\n",
       "<table border=\"1\" class=\"dataframe\">\n",
       "  <thead>\n",
       "    <tr style=\"text-align: right;\">\n",
       "      <th></th>\n",
       "      <th>S1</th>\n",
       "      <th>S2</th>\n",
       "      <th>Average</th>\n",
       "    </tr>\n",
       "  </thead>\n",
       "  <tbody>\n",
       "    <tr>\n",
       "      <th>M0</th>\n",
       "      <td>1.582042</td>\n",
       "      <td>1.784286</td>\n",
       "      <td>1.68</td>\n",
       "    </tr>\n",
       "    <tr>\n",
       "      <th>M1</th>\n",
       "      <td>1.546487</td>\n",
       "      <td>1.559397</td>\n",
       "      <td>1.55</td>\n",
       "    </tr>\n",
       "    <tr>\n",
       "      <th>M2</th>\n",
       "      <td>1.472658</td>\n",
       "      <td>1.503484</td>\n",
       "      <td>1.49</td>\n",
       "    </tr>\n",
       "    <tr>\n",
       "      <th>M3</th>\n",
       "      <td>1.723559</td>\n",
       "      <td>1.786085</td>\n",
       "      <td>1.75</td>\n",
       "    </tr>\n",
       "    <tr>\n",
       "      <th>M4</th>\n",
       "      <td>1.694060</td>\n",
       "      <td>1.652366</td>\n",
       "      <td>1.67</td>\n",
       "    </tr>\n",
       "  </tbody>\n",
       "</table>\n",
       "</div>"
      ],
      "text/plain": [
       "          S1        S2  Average\n",
       "M0  1.582042  1.784286     1.68\n",
       "M1  1.546487  1.559397     1.55\n",
       "M2  1.472658  1.503484     1.49\n",
       "M3  1.723559  1.786085     1.75\n",
       "M4  1.694060  1.652366     1.67"
      ]
     },
     "execution_count": 330,
     "metadata": {},
     "output_type": "execute_result"
    }
   ],
   "source": [
    "data6=  pd.DataFrame({\n",
    "    \"S1\":[1.582042,1.546487,1.472658,1.723559,1.69406,1.74174,1.825342,1.939161,1.639865,2.166622],\n",
    "    \"S2\":[1.784286,1.559397,1.503484,1.786085,1.652366,1.684627,1.740515,1.885321,2.085597,2.115846],\n",
    "    \"Average\":[1.68,1.55,1.49,1.75,1.67,1.71,1.78,1.91,1.86,2.14]\n",
    "     }, index =[\"M0\",\"M1\",\"M2\",\"M3\",\"M4\",\"M5\",\"M6\",\"M7\",\"M8\",\"M9\"])\n",
    "data6.head()"
   ]
  },
  {
   "cell_type": "markdown",
   "id": "3d2d3f0d",
   "metadata": {},
   "source": [
    "# VF1 - PPE,VF2 - PPE,VF3-PPE; PPE best performer across all voulmes"
   ]
  },
  {
   "cell_type": "code",
   "execution_count": 331,
   "id": "03409f68",
   "metadata": {},
   "outputs": [
    {
     "data": {
      "text/plain": [
       "7.716666666666666"
      ]
     },
     "execution_count": 331,
     "metadata": {},
     "output_type": "execute_result"
    }
   ],
   "source": [
    "SF6= (data6.Average[1]+data4.Average[2]+data4.Average[3])/3\n",
    "SF6"
   ]
  },
  {
   "cell_type": "code",
   "execution_count": 332,
   "id": "e0cc9c71",
   "metadata": {},
   "outputs": [
    {
     "data": {
      "text/plain": [
       "6.623333333333332"
      ]
     },
     "execution_count": 332,
     "metadata": {},
     "output_type": "execute_result"
    }
   ],
   "source": [
    "DPE6= (data6.Average[4]+data4.Average[5]+data4.Average[6])/3\n",
    "DPE6"
   ]
  },
  {
   "cell_type": "code",
   "execution_count": 333,
   "id": "60893629",
   "metadata": {},
   "outputs": [
    {
     "data": {
      "text/plain": [
       "6.436666666666667"
      ]
     },
     "execution_count": 333,
     "metadata": {},
     "output_type": "execute_result"
    }
   ],
   "source": [
    "PPE6= (data6.Average[7]+data4.Average[8]+data4.Average[9])/3\n",
    "PPE6"
   ]
  },
  {
   "cell_type": "markdown",
   "id": "2d6b899b",
   "metadata": {},
   "source": [
    "# SF< DPE< PPE in Water absorption(Overall)"
   ]
  },
  {
   "cell_type": "markdown",
   "id": "e8582668",
   "metadata": {},
   "source": [
    "# Water absorption:Maximum in M9(PPE- VF3),minimum in M2"
   ]
  },
  {
   "cell_type": "code",
   "execution_count": 334,
   "id": "2b980c53",
   "metadata": {
    "scrolled": false
   },
   "outputs": [
    {
     "name": "stderr",
     "output_type": "stream",
     "text": [
      "<ipython-input-290-15cafe7021ec>:5: SettingWithCopyWarning: \n",
      "A value is trying to be set on a copy of a slice from a DataFrame\n",
      "\n",
      "See the caveats in the documentation: https://pandas.pydata.org/pandas-docs/stable/user_guide/indexing.html#returning-a-view-versus-a-copy\n",
      "  dataset['Percent Change'][i] = (( dataset['Average'][i]-dataset['Average'][0])/ dataset['Average'][0])*100\n"
     ]
    },
    {
     "data": {
      "text/plain": [
       "<AxesSubplot:>"
      ]
     },
     "execution_count": 334,
     "metadata": {},
     "output_type": "execute_result"
    },
    {
     "data": {
      "image/png": "[encoded data removed]",
      "text/plain": [
       "<Figure size 432x288 with 1 Axes>"
      ]
     },
     "metadata": {
      "needs_background": "light"
     },
     "output_type": "display_data"
    }
   ],
   "source": [
    "Change(data6)\n",
    "data6['Percent Change'].plot(kind = 'barh')\n"
   ]
  },
  {
   "cell_type": "markdown",
   "id": "5a76ed58",
   "metadata": {},
   "source": [
    "# Water absorption:  Maximum percent change in M9 while M2 has minimum percent change"
   ]
  },
  {
   "cell_type": "code",
   "execution_count": 335,
   "id": "1df5d751",
   "metadata": {
    "scrolled": true
   },
   "outputs": [
    {
     "name": "stdout",
     "output_type": "stream",
     "text": [
      "[4.980013386862862, 2.291164187336504, 2.759226944876648]\n",
      "[0.9504384952922162, 0.45825756949558355, 4.2219584712942595]\n",
      "[2.2029071700822986, 2.2950000000000017, 1.0]\n"
     ]
    },
    {
     "data": {
      "image/png": "[encoded data removed]",
      "text/plain": [
       "<Figure size 432x288 with 1 Axes>"
      ]
     },
     "metadata": {
      "needs_background": "light"
     },
     "output_type": "display_data"
    },
    {
     "name": "stdout",
     "output_type": "stream",
     "text": [
      "[22.503851522202336, 27.780388766178202, 2.122105872319653]\n",
      "[3.635014901390795, 5.020292156173167, 9.808329793259098]\n",
      "[50.808562270546425, 18.069403236779348, 68.31488368820757]\n"
     ]
    },
    {
     "data": {
      "image/png": "[encoded data removed]",
      "text/plain": [
       "<Figure size 432x288 with 1 Axes>"
      ]
     },
     "metadata": {
      "needs_background": "light"
     },
     "output_type": "display_data"
    },
    {
     "name": "stdout",
     "output_type": "stream",
     "text": [
      "[0.06933610982982316, 0.08476426771543166, 0.09741663799885536]\n",
      "[0.014801528851214257, 0.028581725076232373, 0.06526517595931242]\n",
      "[0.06336247076148484, 0.3829297932171552, 0.11972917228896188]\n"
     ]
    },
    {
     "data": {
      "image/png": "[encoded data removed]",
      "text/plain": [
       "<Figure size 432x288 with 1 Axes>"
      ]
     },
     "metadata": {
      "needs_background": "light"
     },
     "output_type": "display_data"
    },
    {
     "name": "stdout",
     "output_type": "stream",
     "text": [
      "[0.9753706987602201, 1.3681852944685529, 3.210226160257249]\n",
      "[0.7470441754006254, 0.3761422603218094, 0.5999999999999996]\n",
      "[0.3000000000000007, 0.03117691453623995, 0.24248711305964307]\n"
     ]
    },
    {
     "data": {
      "image/png": "[encoded data removed]",
      "text/plain": [
       "<Figure size 432x288 with 1 Axes>"
      ]
     },
     "metadata": {
      "needs_background": "light"
     },
     "output_type": "display_data"
    },
    {
     "name": "stdout",
     "output_type": "stream",
     "text": [
      "[1.1547005383792515, 0.4330127018922193, 0.5773502691896258]\n",
      "[0.8779711460710616, 0.7637626158259733, 1.233220715579062]\n",
      "[0.28867513459481287, 0.3818813079129867, 0.14433756729740646]\n"
     ]
    },
    {
     "data": {
      "image/png": "[encoded data removed]",
      "text/plain": [
       "<Figure size 432x288 with 1 Axes>"
      ]
     },
     "metadata": {
      "needs_background": "light"
     },
     "output_type": "display_data"
    },
    {
     "name": "stdout",
     "output_type": "stream",
     "text": [
      "[0.009128748545118312, 0.02179727363685653, 0.04421255860046997]\n",
      "[0.02948211013479184, 0.04038498959390727, 0.05998174692771126]\n",
      "[0.03807062909908364, 0.31518011979184224, 0.03590405392152809]\n"
     ]
    },
    {
     "data": {
      "image/png": "[encoded data removed]",
      "text/plain": [
       "<Figure size 432x288 with 1 Axes>"
      ]
     },
     "metadata": {
      "needs_background": "light"
     },
     "output_type": "display_data"
    },
    {
     "data": {
      "text/plain": [
       "([1.55, 1.49, 1.75], [1.67, 1.71, 1.78], [1.91, 1.86, 2.14])"
      ]
     },
     "execution_count": 335,
     "metadata": {},
     "output_type": "execute_result"
    }
   ],
   "source": [
    "plot(data1,0,I1)\n",
    "plot(data2,1,I1)\n",
    "plot(data3,2,I1)\n",
    "plot(data4,3,I1)\n",
    "plot(data5,4,I1)\n",
    "plot(data6,5,I1)"
   ]
  },
  {
   "cell_type": "markdown",
   "id": "45bb7ef9",
   "metadata": {},
   "source": [
    "# Correlation of all the materials wrt to attributes and also the correlation wrt to the Grouped material .\n"
   ]
  },
  {
   "cell_type": "code",
   "execution_count": 336,
   "id": "d39fd374",
   "metadata": {},
   "outputs": [],
   "source": [
    "train = (data1['Average'],data2['Average'],data3['Average'],data4['Average'],data5['Average'],data6['Average'])"
   ]
  },
  {
   "cell_type": "code",
   "execution_count": 337,
   "id": "96ef376b",
   "metadata": {
    "scrolled": true
   },
   "outputs": [],
   "source": [
    "D = pd.DataFrame(train,columns=['M0','M1','M2','M3','M4','M5','M6','M7','M8','M9'],index =['CS','D','USPV','FS','WP','WA'])"
   ]
  },
  {
   "cell_type": "code",
   "execution_count": 338,
   "id": "ab3fef85",
   "metadata": {
    "scrolled": false
   },
   "outputs": [],
   "source": [
    "DT = D.T\n"
   ]
  },
  {
   "cell_type": "code",
   "execution_count": 339,
   "id": "5c64438e",
   "metadata": {
    "scrolled": true
   },
   "outputs": [
    {
     "data": {
      "text/plain": [
       "<AxesSubplot:>"
      ]
     },
     "execution_count": 339,
     "metadata": {},
     "output_type": "execute_result"
    },
    {
     "data": {
      "image/png": "[encoded data removed]",
      "text/plain": [
       "<Figure size 432x288 with 2 Axes>"
      ]
     },
     "metadata": {
      "needs_background": "light"
     },
     "output_type": "display_data"
    }
   ],
   "source": [
    "corr = DT.corr()\n",
    "\n",
    "# plot the heatmap\n",
    "sns.heatmap(corr, \n",
    "        xticklabels=corr.columns,\n",
    "        yticklabels=corr.columns,annot=True)"
   ]
  },
  {
   "cell_type": "code",
   "execution_count": 340,
   "id": "43e46173",
   "metadata": {},
   "outputs": [
    {
     "data": {
      "text/html": [
       "<div>\n",
       "<style scoped>\n",
       "    .dataframe tbody tr th:only-of-type {\n",
       "        vertical-align: middle;\n",
       "    }\n",
       "\n",
       "    .dataframe tbody tr th {\n",
       "        vertical-align: top;\n",
       "    }\n",
       "\n",
       "    .dataframe thead th {\n",
       "        text-align: right;\n",
       "    }\n",
       "</style>\n",
       "<table border=\"1\" class=\"dataframe\">\n",
       "  <thead>\n",
       "    <tr style=\"text-align: right;\">\n",
       "      <th></th>\n",
       "      <th>material 1</th>\n",
       "      <th>material 2</th>\n",
       "      <th>material 3</th>\n",
       "    </tr>\n",
       "  </thead>\n",
       "  <tbody>\n",
       "    <tr>\n",
       "      <th>CS</th>\n",
       "      <td>63.700000</td>\n",
       "      <td>60.766667</td>\n",
       "      <td>64.088333</td>\n",
       "    </tr>\n",
       "    <tr>\n",
       "      <th>D</th>\n",
       "      <td>2545.366667</td>\n",
       "      <td>2514.766667</td>\n",
       "      <td>2488.300000</td>\n",
       "    </tr>\n",
       "    <tr>\n",
       "      <th>USPV</th>\n",
       "      <td>4.946667</td>\n",
       "      <td>4.993333</td>\n",
       "      <td>4.790000</td>\n",
       "    </tr>\n",
       "    <tr>\n",
       "      <th>FS</th>\n",
       "      <td>9.433333</td>\n",
       "      <td>8.833333</td>\n",
       "      <td>8.800000</td>\n",
       "    </tr>\n",
       "    <tr>\n",
       "      <th>WP</th>\n",
       "      <td>4.466667</td>\n",
       "      <td>8.600000</td>\n",
       "      <td>4.833333</td>\n",
       "    </tr>\n",
       "  </tbody>\n",
       "</table>\n",
       "</div>"
      ],
      "text/plain": [
       "       material 1   material 2   material 3\n",
       "CS      63.700000    60.766667    64.088333\n",
       "D     2545.366667  2514.766667  2488.300000\n",
       "USPV     4.946667     4.993333     4.790000\n",
       "FS       9.433333     8.833333     8.800000\n",
       "WP       4.466667     8.600000     4.833333"
      ]
     },
     "execution_count": 340,
     "metadata": {},
     "output_type": "execute_result"
    }
   ],
   "source": [
    "dataF = pd.DataFrame({\n",
    "\"material 1\":[SF1,SF2,SF3,SF4,SF5,SF6],\n",
    "\"material 2\":[DPE1,DPE2,DPE3,DPE4,DPE5,DPE6],\n",
    "\"material 3\":[PPE1,PPE2,PPE3,PPE4,PPE5,PPE6],\n",
    "},\n",
    "index =['CS','D','USPV','FS','WP','WA'])\n",
    "dataF.head()\n"
   ]
  },
  {
   "cell_type": "code",
   "execution_count": 341,
   "id": "376e8189",
   "metadata": {},
   "outputs": [],
   "source": [
    "dataF1= dataF.T"
   ]
  },
  {
   "cell_type": "code",
   "execution_count": 342,
   "id": "f7969009",
   "metadata": {},
   "outputs": [
    {
     "data": {
      "text/plain": [
       "<AxesSubplot:>"
      ]
     },
     "execution_count": 342,
     "metadata": {},
     "output_type": "execute_result"
    },
    {
     "data": {
      "image/png": "[encoded data removed]",
      "text/plain": [
       "<Figure size 432x288 with 2 Axes>"
      ]
     },
     "metadata": {
      "needs_background": "light"
     },
     "output_type": "display_data"
    }
   ],
   "source": [
    "corr = dataF1.corr()\n",
    "\n",
    "# plot the heatmap\n",
    "sns.heatmap(corr, \n",
    "        xticklabels=corr.columns,\n",
    "        yticklabels=corr.columns,annot=True)"
   ]
  },
  {
   "cell_type": "markdown",
   "id": "187bd8b7",
   "metadata": {},
   "source": [
    "# Across the Materials (M0-M9)  attributes trend  D-FS(+),USPV-WA(-),USPV-FS(-),D-WA(-)\n",
    "\n"
   ]
  },
  {
   "cell_type": "markdown",
   "id": "4ca815ab",
   "metadata": {},
   "source": [
    "# Across the Grouped material i.e SF,DPE and PPE attributes trend"
   ]
  },
  {
   "cell_type": "markdown",
   "id": "f96ca6a9",
   "metadata": {},
   "source": [
    "#  CS-USPV (-), CS-WP(-),D-USPV(+),D-FS(+)(both true),  D-WA(+)(anomaly),      USPV-WP(+),WA-FS(perfect +)"
   ]
  },
  {
   "cell_type": "markdown",
   "id": "25414bdb",
   "metadata": {},
   "source": [
    "#  Test 2 :Heat Cool cycle"
   ]
  },
  {
   "cell_type": "markdown",
   "id": "4c23c41b",
   "metadata": {},
   "source": [
    "# 1.Comp Strength"
   ]
  },
  {
   "cell_type": "code",
   "execution_count": 343,
   "id": "d448d0ac",
   "metadata": {},
   "outputs": [
    {
     "data": {
      "text/html": [
       "<div>\n",
       "<style scoped>\n",
       "    .dataframe tbody tr th:only-of-type {\n",
       "        vertical-align: middle;\n",
       "    }\n",
       "\n",
       "    .dataframe tbody tr th {\n",
       "        vertical-align: top;\n",
       "    }\n",
       "\n",
       "    .dataframe thead th {\n",
       "        text-align: right;\n",
       "    }\n",
       "</style>\n",
       "<table border=\"1\" class=\"dataframe\">\n",
       "  <thead>\n",
       "    <tr style=\"text-align: right;\">\n",
       "      <th></th>\n",
       "      <th>S1</th>\n",
       "      <th>S2</th>\n",
       "      <th>S3</th>\n",
       "      <th>Average</th>\n",
       "      <th>SD</th>\n",
       "    </tr>\n",
       "  </thead>\n",
       "  <tbody>\n",
       "    <tr>\n",
       "      <th>M0</th>\n",
       "      <td>77.27</td>\n",
       "      <td>76.90</td>\n",
       "      <td>65.85</td>\n",
       "      <td>73.3</td>\n",
       "      <td>6.489168</td>\n",
       "    </tr>\n",
       "    <tr>\n",
       "      <th>M1</th>\n",
       "      <td>77.23</td>\n",
       "      <td>74.03</td>\n",
       "      <td>70.13</td>\n",
       "      <td>73.8</td>\n",
       "      <td>3.555747</td>\n",
       "    </tr>\n",
       "    <tr>\n",
       "      <th>M2</th>\n",
       "      <td>68.82</td>\n",
       "      <td>74.87</td>\n",
       "      <td>78.00</td>\n",
       "      <td>73.9</td>\n",
       "      <td>4.666758</td>\n",
       "    </tr>\n",
       "    <tr>\n",
       "      <th>M3</th>\n",
       "      <td>59.38</td>\n",
       "      <td>52.76</td>\n",
       "      <td>67.66</td>\n",
       "      <td>59.9</td>\n",
       "      <td>7.465396</td>\n",
       "    </tr>\n",
       "    <tr>\n",
       "      <th>M4</th>\n",
       "      <td>74.88</td>\n",
       "      <td>61.73</td>\n",
       "      <td>74.18</td>\n",
       "      <td>70.3</td>\n",
       "      <td>7.398367</td>\n",
       "    </tr>\n",
       "  </tbody>\n",
       "</table>\n",
       "</div>"
      ],
      "text/plain": [
       "       S1     S2     S3  Average        SD\n",
       "M0  77.27  76.90  65.85     73.3  6.489168\n",
       "M1  77.23  74.03  70.13     73.8  3.555747\n",
       "M2  68.82  74.87  78.00     73.9  4.666758\n",
       "M3  59.38  52.76  67.66     59.9  7.465396\n",
       "M4  74.88  61.73  74.18     70.3  7.398367"
      ]
     },
     "execution_count": 343,
     "metadata": {},
     "output_type": "execute_result"
    }
   ],
   "source": [
    "data11=  pd.DataFrame({\n",
    "    \"S1\":[77.27,77.23,68.82,59.38,74.88,63.77,68.21,61.4,73.85,72.9],\n",
    "    \"S2\":[76.9,74.03,74.87,52.76,61.73,68.2,68,73.2,64.54,73.6],\n",
    "    \"S3\":[65.85,70.13,78,67.66,74.18,63.83,75.1,69.4,73.1,69.93],\n",
    "    \"Average\":[73.3,73.8,73.9,59.9,70.3,65.3,70.4,68.0,70.5,72.1],\n",
    "    \"SD\" : [6.489167897,3.555746523,4.666758332,7.465395725,7.398366937,2.54051832,4.039929867,6.023288139,5.172236782,1.948495146\n",
    "]\n",
    "     }, index =[\"M0\",\"M1\",\"M2\",\"M3\",\"M4\",\"M5\",\"M6\",\"M7\",\"M8\",\"M9\"])\n",
    "data11.head()"
   ]
  },
  {
   "cell_type": "markdown",
   "id": "cb738d12",
   "metadata": {},
   "source": [
    "# Comp strength - SF(VF1),SF(VF2),PPE(VF3)"
   ]
  },
  {
   "cell_type": "code",
   "execution_count": 344,
   "id": "652db8e7",
   "metadata": {},
   "outputs": [
    {
     "data": {
      "text/plain": [
       "69.2"
      ]
     },
     "execution_count": 344,
     "metadata": {},
     "output_type": "execute_result"
    }
   ],
   "source": [
    "SF11= (data11['Average']['M1'] + data11['Average']['M2'] + data11['Average']['M3'])/3\n",
    "SF11"
   ]
  },
  {
   "cell_type": "code",
   "execution_count": 345,
   "id": "a3f775a2",
   "metadata": {},
   "outputs": [
    {
     "data": {
      "text/plain": [
       "68.66666666666667"
      ]
     },
     "execution_count": 345,
     "metadata": {},
     "output_type": "execute_result"
    }
   ],
   "source": [
    "DPE11= (data11.Average[4]+data11.Average[5]+data11.Average[6])/3\n",
    "DPE11"
   ]
  },
  {
   "cell_type": "code",
   "execution_count": 346,
   "id": "c470ffa0",
   "metadata": {
    "scrolled": true
   },
   "outputs": [
    {
     "data": {
      "text/plain": [
       "70.2"
      ]
     },
     "execution_count": 346,
     "metadata": {},
     "output_type": "execute_result"
    }
   ],
   "source": [
    "PPE11= (data11.Average[7]+data11.Average[8]+data11.Average[9])/3\n",
    "PPE11"
   ]
  },
  {
   "cell_type": "markdown",
   "id": "391a4d73",
   "metadata": {},
   "source": [
    "# DPE< SF< PPE(Overall)"
   ]
  },
  {
   "cell_type": "code",
   "execution_count": 347,
   "id": "6b48c04a",
   "metadata": {
    "scrolled": true
   },
   "outputs": [
    {
     "name": "stderr",
     "output_type": "stream",
     "text": [
      "<ipython-input-290-15cafe7021ec>:5: SettingWithCopyWarning: \n",
      "A value is trying to be set on a copy of a slice from a DataFrame\n",
      "\n",
      "See the caveats in the documentation: https://pandas.pydata.org/pandas-docs/stable/user_guide/indexing.html#returning-a-view-versus-a-copy\n",
      "  dataset['Percent Change'][i] = (( dataset['Average'][i]-dataset['Average'][0])/ dataset['Average'][0])*100\n"
     ]
    },
    {
     "data": {
      "text/plain": [
       "<AxesSubplot:>"
      ]
     },
     "execution_count": 347,
     "metadata": {},
     "output_type": "execute_result"
    },
    {
     "data": {
      "image/png": "[encoded data removed]",
      "text/plain": [
       "<Figure size 432x288 with 1 Axes>"
      ]
     },
     "metadata": {
      "needs_background": "light"
     },
     "output_type": "display_data"
    }
   ],
   "source": [
    "\n",
    "Change(data11)\n",
    "data11['Percent Change'].plot(kind = 'barh')\n"
   ]
  },
  {
   "cell_type": "markdown",
   "id": "546a1d08",
   "metadata": {},
   "source": [
    "# Comp Strength: M2 (SF-VF2) maximum increase while M3 maximum decrease."
   ]
  },
  {
   "cell_type": "markdown",
   "id": "ca109cea",
   "metadata": {},
   "source": [
    "# 2.Density"
   ]
  },
  {
   "cell_type": "code",
   "execution_count": 348,
   "id": "a318fb9b",
   "metadata": {
    "scrolled": true
   },
   "outputs": [
    {
     "data": {
      "text/html": [
       "<div>\n",
       "<style scoped>\n",
       "    .dataframe tbody tr th:only-of-type {\n",
       "        vertical-align: middle;\n",
       "    }\n",
       "\n",
       "    .dataframe tbody tr th {\n",
       "        vertical-align: top;\n",
       "    }\n",
       "\n",
       "    .dataframe thead th {\n",
       "        text-align: right;\n",
       "    }\n",
       "</style>\n",
       "<table border=\"1\" class=\"dataframe\">\n",
       "  <thead>\n",
       "    <tr style=\"text-align: right;\">\n",
       "      <th></th>\n",
       "      <th>S1</th>\n",
       "      <th>S2</th>\n",
       "      <th>S3</th>\n",
       "      <th>Average</th>\n",
       "    </tr>\n",
       "  </thead>\n",
       "  <tbody>\n",
       "    <tr>\n",
       "      <th>M0</th>\n",
       "      <td>2397.8</td>\n",
       "      <td>2464.0</td>\n",
       "      <td>2454.1</td>\n",
       "      <td>2438.6</td>\n",
       "    </tr>\n",
       "    <tr>\n",
       "      <th>M1</th>\n",
       "      <td>2430.6</td>\n",
       "      <td>2413.0</td>\n",
       "      <td>2432.4</td>\n",
       "      <td>2425.3</td>\n",
       "    </tr>\n",
       "    <tr>\n",
       "      <th>M2</th>\n",
       "      <td>2433.0</td>\n",
       "      <td>2429.7</td>\n",
       "      <td>2425.8</td>\n",
       "      <td>2429.5</td>\n",
       "    </tr>\n",
       "    <tr>\n",
       "      <th>M3</th>\n",
       "      <td>2545.6</td>\n",
       "      <td>2542.6</td>\n",
       "      <td>2506.0</td>\n",
       "      <td>2531.4</td>\n",
       "    </tr>\n",
       "    <tr>\n",
       "      <th>M4</th>\n",
       "      <td>2456.3</td>\n",
       "      <td>2488.1</td>\n",
       "      <td>2472.6</td>\n",
       "      <td>2472.3</td>\n",
       "    </tr>\n",
       "  </tbody>\n",
       "</table>\n",
       "</div>"
      ],
      "text/plain": [
       "        S1      S2      S3  Average\n",
       "M0  2397.8  2464.0  2454.1   2438.6\n",
       "M1  2430.6  2413.0  2432.4   2425.3\n",
       "M2  2433.0  2429.7  2425.8   2429.5\n",
       "M3  2545.6  2542.6  2506.0   2531.4\n",
       "M4  2456.3  2488.1  2472.6   2472.3"
      ]
     },
     "execution_count": 348,
     "metadata": {},
     "output_type": "execute_result"
    }
   ],
   "source": [
    "data12=  pd.DataFrame({\n",
    "    \"S1\":[2397.8,2430.6,2433.0,2545.6,2456.3,2414.6,2416.4,2410.7,2359.4,2431.5],\n",
    "    \"S2\":[2464.0,2413.0,2429.7,2542.6,2488.1,2406.4,2462.5,2435.9,2411.3,2474.1],    \n",
    "    \"S3\":[2454.1,2432.4,2425.8,2506.0,2472.6,2403.0,2476.8,2422.1,2390.8,2383.7],\n",
    "    \"Average\":[2438.6,2425.3,2429.5,2531.4,2472.3,2408.0,2451.9,2422.9,2387.2,2429.8],\n",
    "    \n",
    "     }, index =[\"M0\",\"M1\",\"M2\",\"M3\",\"M4\",\"M5\",\"M6\",\"M7\",\"M8\",\"M9\"])\n",
    "data12.head()"
   ]
  },
  {
   "cell_type": "code",
   "execution_count": 349,
   "id": "ba0edf3d",
   "metadata": {
    "scrolled": true
   },
   "outputs": [
    {
     "name": "stderr",
     "output_type": "stream",
     "text": [
      "<ipython-input-290-15cafe7021ec>:5: SettingWithCopyWarning: \n",
      "A value is trying to be set on a copy of a slice from a DataFrame\n",
      "\n",
      "See the caveats in the documentation: https://pandas.pydata.org/pandas-docs/stable/user_guide/indexing.html#returning-a-view-versus-a-copy\n",
      "  dataset['Percent Change'][i] = (( dataset['Average'][i]-dataset['Average'][0])/ dataset['Average'][0])*100\n"
     ]
    },
    {
     "data": {
      "text/plain": [
       "<AxesSubplot:>"
      ]
     },
     "execution_count": 349,
     "metadata": {},
     "output_type": "execute_result"
    },
    {
     "data": {
      "image/png": "[encoded data removed]",
      "text/plain": [
       "<Figure size 432x288 with 1 Axes>"
      ]
     },
     "metadata": {
      "needs_background": "light"
     },
     "output_type": "display_data"
    }
   ],
   "source": [
    "Change(data12)\n",
    "data12['Percent Change'].plot(kind = 'barh')\n"
   ]
  },
  {
   "cell_type": "markdown",
   "id": "0c755181",
   "metadata": {},
   "source": [
    "# M3(SF-V3) maximum increase and M8 maximum dip"
   ]
  },
  {
   "cell_type": "markdown",
   "id": "8c396392",
   "metadata": {},
   "source": [
    "# VF1-DPE,VF2-SF,VF3-SF(across volume fractions)"
   ]
  },
  {
   "cell_type": "code",
   "execution_count": 350,
   "id": "9ffb13c8",
   "metadata": {},
   "outputs": [
    {
     "data": {
      "text/plain": [
       "2462.066666666667"
      ]
     },
     "execution_count": 350,
     "metadata": {},
     "output_type": "execute_result"
    }
   ],
   "source": [
    "SF12= (data12['Average']['M1'] + data12['Average']['M2'] + data12['Average']['M3'])/3\n",
    "SF12"
   ]
  },
  {
   "cell_type": "code",
   "execution_count": 351,
   "id": "0a0df671",
   "metadata": {},
   "outputs": [
    {
     "data": {
      "text/plain": [
       "2444.066666666667"
      ]
     },
     "execution_count": 351,
     "metadata": {},
     "output_type": "execute_result"
    }
   ],
   "source": [
    "DPE12= (data12['Average']['M4'] + data12['Average']['M5'] + data12['Average']['M6'])/3\n",
    "DPE12"
   ]
  },
  {
   "cell_type": "code",
   "execution_count": 352,
   "id": "e05ba9cc",
   "metadata": {
    "scrolled": false
   },
   "outputs": [
    {
     "data": {
      "text/plain": [
       "2413.3"
      ]
     },
     "execution_count": 352,
     "metadata": {},
     "output_type": "execute_result"
    }
   ],
   "source": [
    "PPE12= (data12['Average']['M7'] + data12['Average']['M8'] + data12['Average']['M9'])/3\n",
    "PPE12"
   ]
  },
  {
   "cell_type": "markdown",
   "id": "f124de3a",
   "metadata": {},
   "source": [
    "# PPE< DPE< SF(Overall)"
   ]
  },
  {
   "cell_type": "markdown",
   "id": "56eb64ae",
   "metadata": {},
   "source": [
    "# 3. Water Absorption"
   ]
  },
  {
   "cell_type": "code",
   "execution_count": 353,
   "id": "67040415",
   "metadata": {},
   "outputs": [
    {
     "data": {
      "text/html": [
       "<div>\n",
       "<style scoped>\n",
       "    .dataframe tbody tr th:only-of-type {\n",
       "        vertical-align: middle;\n",
       "    }\n",
       "\n",
       "    .dataframe tbody tr th {\n",
       "        vertical-align: top;\n",
       "    }\n",
       "\n",
       "    .dataframe thead th {\n",
       "        text-align: right;\n",
       "    }\n",
       "</style>\n",
       "<table border=\"1\" class=\"dataframe\">\n",
       "  <thead>\n",
       "    <tr style=\"text-align: right;\">\n",
       "      <th></th>\n",
       "      <th>S1</th>\n",
       "      <th>S2</th>\n",
       "      <th>S3</th>\n",
       "      <th>Average</th>\n",
       "    </tr>\n",
       "  </thead>\n",
       "  <tbody>\n",
       "    <tr>\n",
       "      <th>M0</th>\n",
       "      <td>1.320257</td>\n",
       "      <td>1.374108</td>\n",
       "      <td>1.363022</td>\n",
       "      <td>1.352462</td>\n",
       "    </tr>\n",
       "    <tr>\n",
       "      <th>M1</th>\n",
       "      <td>1.466518</td>\n",
       "      <td>1.481913</td>\n",
       "      <td>1.515777</td>\n",
       "      <td>1.488069</td>\n",
       "    </tr>\n",
       "    <tr>\n",
       "      <th>M2</th>\n",
       "      <td>1.717447</td>\n",
       "      <td>1.678379</td>\n",
       "      <td>1.755766</td>\n",
       "      <td>1.697913</td>\n",
       "    </tr>\n",
       "    <tr>\n",
       "      <th>M3</th>\n",
       "      <td>1.589932</td>\n",
       "      <td>1.598918</td>\n",
       "      <td>1.647031</td>\n",
       "      <td>1.594425</td>\n",
       "    </tr>\n",
       "    <tr>\n",
       "      <th>M4</th>\n",
       "      <td>1.732380</td>\n",
       "      <td>1.730886</td>\n",
       "      <td>1.695740</td>\n",
       "      <td>1.731633</td>\n",
       "    </tr>\n",
       "  </tbody>\n",
       "</table>\n",
       "</div>"
      ],
      "text/plain": [
       "          S1        S2        S3   Average\n",
       "M0  1.320257  1.374108  1.363022  1.352462\n",
       "M1  1.466518  1.481913  1.515777  1.488069\n",
       "M2  1.717447  1.678379  1.755766  1.697913\n",
       "M3  1.589932  1.598918  1.647031  1.594425\n",
       "M4  1.732380  1.730886  1.695740  1.731633"
      ]
     },
     "execution_count": 353,
     "metadata": {},
     "output_type": "execute_result"
    }
   ],
   "source": [
    "data13=  pd.DataFrame({\n",
    "    \"S1\":[1.320256507,1.466517949,1.717446949,1.589931747,1.73237998,1.889147803,1.716541978,1.708333333,1.647720015,1.689035722],\n",
    "    \"S2\":[1.374108053,1.481913167,1.678379496,1.598918145,1.730885616,1.844587263,1.447089516,1.731601732,1.507265687,1.554067762],    \n",
    "    \"S3\":[1.36302239,1.515777301,1.755766284,1.647030536,1.695740365,1.839926403,1.418267283,1.724638282,1.545569089,1.714694978],    \n",
    "    \"Average\":[1.352462317,1.488069472,1.697913222,1.594424946,1.731632798,1.866867533,1.581815747,1.719967532,1.577492851,1.621551742],\n",
    "      }, index =[\"M0\",\"M1\",\"M2\",\"M3\",\"M4\",\"M5\",\"M6\",\"M7\",\"M8\",\"M9\"])\n",
    "data13.head()"
   ]
  },
  {
   "cell_type": "code",
   "execution_count": 354,
   "id": "bfbf0156",
   "metadata": {},
   "outputs": [
    {
     "name": "stderr",
     "output_type": "stream",
     "text": [
      "<ipython-input-290-15cafe7021ec>:5: SettingWithCopyWarning: \n",
      "A value is trying to be set on a copy of a slice from a DataFrame\n",
      "\n",
      "See the caveats in the documentation: https://pandas.pydata.org/pandas-docs/stable/user_guide/indexing.html#returning-a-view-versus-a-copy\n",
      "  dataset['Percent Change'][i] = (( dataset['Average'][i]-dataset['Average'][0])/ dataset['Average'][0])*100\n"
     ]
    },
    {
     "data": {
      "text/plain": [
       "<AxesSubplot:>"
      ]
     },
     "execution_count": 354,
     "metadata": {},
     "output_type": "execute_result"
    },
    {
     "data": {
      "image/png": "[encoded data removed]",
      "text/plain": [
       "<Figure size 432x288 with 1 Axes>"
      ]
     },
     "metadata": {
      "needs_background": "light"
     },
     "output_type": "display_data"
    }
   ],
   "source": [
    "Change(data13)\n",
    "data13['Percent Change'].plot(kind = 'barh')\n"
   ]
  },
  {
   "cell_type": "markdown",
   "id": "5144f88b",
   "metadata": {},
   "source": [
    "# M5(DPE-VF2) maximum , M1(excluded M0 ) minimum"
   ]
  },
  {
   "cell_type": "markdown",
   "id": "a2b637c6",
   "metadata": {},
   "source": [
    "# VF1-DPE,VF2-DPE,VF3-PPE(across volume fractions)"
   ]
  },
  {
   "cell_type": "code",
   "execution_count": 355,
   "id": "a746ea1f",
   "metadata": {},
   "outputs": [
    {
     "data": {
      "text/plain": [
       "1.5934692133333332"
      ]
     },
     "execution_count": 355,
     "metadata": {},
     "output_type": "execute_result"
    }
   ],
   "source": [
    "SF13= (data13['Average']['M1'] + data13['Average']['M2'] + data13['Average']['M3'])/3\n",
    "SF13"
   ]
  },
  {
   "cell_type": "code",
   "execution_count": 356,
   "id": "3cba99d1",
   "metadata": {},
   "outputs": [
    {
     "data": {
      "text/plain": [
       "1.726772026"
      ]
     },
     "execution_count": 356,
     "metadata": {},
     "output_type": "execute_result"
    }
   ],
   "source": [
    "DPE13= (data13['Average']['M4'] + data13['Average']['M5'] + data13['Average']['M6'])/3\n",
    "DPE13"
   ]
  },
  {
   "cell_type": "code",
   "execution_count": 357,
   "id": "18faf321",
   "metadata": {},
   "outputs": [
    {
     "data": {
      "text/plain": [
       "1.6396707083333333"
      ]
     },
     "execution_count": 357,
     "metadata": {},
     "output_type": "execute_result"
    }
   ],
   "source": [
    "PPE13= (data13['Average']['M7'] + data13['Average']['M8'] + data13['Average']['M9'])/3\n",
    "PPE13"
   ]
  },
  {
   "cell_type": "markdown",
   "id": "2adbb388",
   "metadata": {},
   "source": [
    "# SF< PPE< DPE(overall)"
   ]
  },
  {
   "cell_type": "markdown",
   "id": "03580a4d",
   "metadata": {},
   "source": [
    "# 4. USPV"
   ]
  },
  {
   "cell_type": "code",
   "execution_count": 358,
   "id": "1e3a89d8",
   "metadata": {},
   "outputs": [
    {
     "data": {
      "text/html": [
       "<div>\n",
       "<style scoped>\n",
       "    .dataframe tbody tr th:only-of-type {\n",
       "        vertical-align: middle;\n",
       "    }\n",
       "\n",
       "    .dataframe tbody tr th {\n",
       "        vertical-align: top;\n",
       "    }\n",
       "\n",
       "    .dataframe thead th {\n",
       "        text-align: right;\n",
       "    }\n",
       "</style>\n",
       "<table border=\"1\" class=\"dataframe\">\n",
       "  <thead>\n",
       "    <tr style=\"text-align: right;\">\n",
       "      <th></th>\n",
       "      <th>S1</th>\n",
       "      <th>S2</th>\n",
       "      <th>S3</th>\n",
       "      <th>Average</th>\n",
       "      <th>SD</th>\n",
       "    </tr>\n",
       "  </thead>\n",
       "  <tbody>\n",
       "    <tr>\n",
       "      <th>M0</th>\n",
       "      <td>4.587156</td>\n",
       "      <td>4.716981</td>\n",
       "      <td>4.566210</td>\n",
       "      <td>4.623449</td>\n",
       "      <td>0.081675</td>\n",
       "    </tr>\n",
       "    <tr>\n",
       "      <th>M1</th>\n",
       "      <td>4.784689</td>\n",
       "      <td>4.629630</td>\n",
       "      <td>4.694836</td>\n",
       "      <td>4.703051</td>\n",
       "      <td>0.077855</td>\n",
       "    </tr>\n",
       "    <tr>\n",
       "      <th>M2</th>\n",
       "      <td>4.651163</td>\n",
       "      <td>4.716981</td>\n",
       "      <td>4.830918</td>\n",
       "      <td>4.733021</td>\n",
       "      <td>0.090945</td>\n",
       "    </tr>\n",
       "    <tr>\n",
       "      <th>M3</th>\n",
       "      <td>4.219409</td>\n",
       "      <td>4.385965</td>\n",
       "      <td>4.032258</td>\n",
       "      <td>4.212544</td>\n",
       "      <td>0.176953</td>\n",
       "    </tr>\n",
       "    <tr>\n",
       "      <th>M4</th>\n",
       "      <td>4.651163</td>\n",
       "      <td>4.694836</td>\n",
       "      <td>4.672897</td>\n",
       "      <td>4.672965</td>\n",
       "      <td>0.021837</td>\n",
       "    </tr>\n",
       "  </tbody>\n",
       "</table>\n",
       "</div>"
      ],
      "text/plain": [
       "          S1        S2        S3   Average        SD\n",
       "M0  4.587156  4.716981  4.566210  4.623449  0.081675\n",
       "M1  4.784689  4.629630  4.694836  4.703051  0.077855\n",
       "M2  4.651163  4.716981  4.830918  4.733021  0.090945\n",
       "M3  4.219409  4.385965  4.032258  4.212544  0.176953\n",
       "M4  4.651163  4.694836  4.672897  4.672965  0.021837"
      ]
     },
     "execution_count": 358,
     "metadata": {},
     "output_type": "execute_result"
    }
   ],
   "source": [
    "data14 = pd.DataFrame({\n",
    "\"S1\":[4.587155963,4.784688995,4.651162791,4.219409283,4.651162791,4.524886878,4.694835681,4.587155963,4.484304933,4.566210046],\n",
    "\"S2\":[4.716981132,4.62962963,4.716981132,4.385964912,4.694835681,4.484304933,4.651162791,4.672897196,4.524886878,4.545454545],\n",
    "\"S3\":[4.566210046,4.694835681,4.830917874,4.032258065,4.672897196,4.587155963,4.651162791,4.672897196,4.424778761,4.444444444],\n",
    "\"Average\":[4.623449047,4.703051435,4.733020599,4.212544086,4.672965223,4.532115925,4.665720421,4.644316785,4.477990191,4.518703012],\n",
    "\"SD\":[0.081675401,0.077855479,0.090944603,0.176953332,0.021836524,0.051805192,0.025214555,0.049502724,0.050351919,0.065141759]},\n",
    " index =[\"M0\",\"M1\",\"M2\",\"M3\",\"M4\",\"M5\",\"M6\",\"M7\",\"M8\",\"M9\"])\n",
    "data14.head()\n"
   ]
  },
  {
   "cell_type": "markdown",
   "id": "2505a558",
   "metadata": {},
   "source": [
    "# VF1-SF,VF2-SF,VF3-DPE(across Volume fractions)"
   ]
  },
  {
   "cell_type": "code",
   "execution_count": 359,
   "id": "40378b30",
   "metadata": {},
   "outputs": [
    {
     "data": {
      "text/plain": [
       "4.549538706666667"
      ]
     },
     "execution_count": 359,
     "metadata": {},
     "output_type": "execute_result"
    }
   ],
   "source": [
    "SF14= (data14['Average']['M1'] + data14['Average']['M2'] + data14['Average']['M3'])/3\n",
    "SF14"
   ]
  },
  {
   "cell_type": "code",
   "execution_count": 360,
   "id": "613534f7",
   "metadata": {},
   "outputs": [
    {
     "data": {
      "text/plain": [
       "4.623600523"
      ]
     },
     "execution_count": 360,
     "metadata": {},
     "output_type": "execute_result"
    }
   ],
   "source": [
    "DPE14= (data14['Average']['M4'] + data14['Average']['M5'] + data14['Average']['M6'])/3\n",
    "DPE14"
   ]
  },
  {
   "cell_type": "code",
   "execution_count": 361,
   "id": "b2fa216e",
   "metadata": {},
   "outputs": [
    {
     "data": {
      "text/plain": [
       "4.547003329333333"
      ]
     },
     "execution_count": 361,
     "metadata": {},
     "output_type": "execute_result"
    }
   ],
   "source": [
    "PPE14= (data14['Average']['M7'] + data14['Average']['M8'] + data14['Average']['M9'])/3\n",
    "PPE14"
   ]
  },
  {
   "cell_type": "markdown",
   "id": "46e9543e",
   "metadata": {},
   "source": [
    "# PPE< SF< DPE(overall)"
   ]
  },
  {
   "cell_type": "code",
   "execution_count": 362,
   "id": "e6943972",
   "metadata": {},
   "outputs": [
    {
     "name": "stderr",
     "output_type": "stream",
     "text": [
      "<ipython-input-290-15cafe7021ec>:5: SettingWithCopyWarning: \n",
      "A value is trying to be set on a copy of a slice from a DataFrame\n",
      "\n",
      "See the caveats in the documentation: https://pandas.pydata.org/pandas-docs/stable/user_guide/indexing.html#returning-a-view-versus-a-copy\n",
      "  dataset['Percent Change'][i] = (( dataset['Average'][i]-dataset['Average'][0])/ dataset['Average'][0])*100\n"
     ]
    },
    {
     "data": {
      "text/plain": [
       "<AxesSubplot:>"
      ]
     },
     "execution_count": 362,
     "metadata": {},
     "output_type": "execute_result"
    },
    {
     "data": {
      "image/png": "[encoded data removed]",
      "text/plain": [
       "<Figure size 432x288 with 1 Axes>"
      ]
     },
     "metadata": {
      "needs_background": "light"
     },
     "output_type": "display_data"
    }
   ],
   "source": [
    "Change(data14)\n",
    "data14['Percent Change'].plot(kind = 'bar')\n"
   ]
  },
  {
   "cell_type": "markdown",
   "id": "b69b8fb7",
   "metadata": {},
   "source": [
    "# M2 (SF-VF2) maximum,SF-VF3(minimum)"
   ]
  },
  {
   "cell_type": "markdown",
   "id": "63115b2c",
   "metadata": {},
   "source": [
    "# 5.Flexure Strength"
   ]
  },
  {
   "cell_type": "code",
   "execution_count": 363,
   "id": "60599bd9",
   "metadata": {
    "scrolled": true
   },
   "outputs": [
    {
     "data": {
      "text/html": [
       "<div>\n",
       "<style scoped>\n",
       "    .dataframe tbody tr th:only-of-type {\n",
       "        vertical-align: middle;\n",
       "    }\n",
       "\n",
       "    .dataframe tbody tr th {\n",
       "        vertical-align: top;\n",
       "    }\n",
       "\n",
       "    .dataframe thead th {\n",
       "        text-align: right;\n",
       "    }\n",
       "</style>\n",
       "<table border=\"1\" class=\"dataframe\">\n",
       "  <thead>\n",
       "    <tr style=\"text-align: right;\">\n",
       "      <th></th>\n",
       "      <th>S1</th>\n",
       "      <th>S2</th>\n",
       "      <th>S3</th>\n",
       "      <th>Average</th>\n",
       "      <th>SD</th>\n",
       "    </tr>\n",
       "  </thead>\n",
       "  <tbody>\n",
       "    <tr>\n",
       "      <th>M0</th>\n",
       "      <td>9.003</td>\n",
       "      <td>8.703</td>\n",
       "      <td>8.403</td>\n",
       "      <td>8.703</td>\n",
       "      <td>0.300000</td>\n",
       "    </tr>\n",
       "    <tr>\n",
       "      <th>M1</th>\n",
       "      <td>9.480</td>\n",
       "      <td>9.903</td>\n",
       "      <td>9.750</td>\n",
       "      <td>9.711</td>\n",
       "      <td>0.214180</td>\n",
       "    </tr>\n",
       "    <tr>\n",
       "      <th>M2</th>\n",
       "      <td>9.003</td>\n",
       "      <td>8.250</td>\n",
       "      <td>10.803</td>\n",
       "      <td>9.352</td>\n",
       "      <td>1.311794</td>\n",
       "    </tr>\n",
       "    <tr>\n",
       "      <th>M3</th>\n",
       "      <td>10.203</td>\n",
       "      <td>11.280</td>\n",
       "      <td>13.503</td>\n",
       "      <td>11.662</td>\n",
       "      <td>1.682838</td>\n",
       "    </tr>\n",
       "    <tr>\n",
       "      <th>M4</th>\n",
       "      <td>9.603</td>\n",
       "      <td>8.103</td>\n",
       "      <td>8.403</td>\n",
       "      <td>8.703</td>\n",
       "      <td>0.793725</td>\n",
       "    </tr>\n",
       "  </tbody>\n",
       "</table>\n",
       "</div>"
      ],
      "text/plain": [
       "        S1      S2      S3  Average        SD\n",
       "M0   9.003   8.703   8.403    8.703  0.300000\n",
       "M1   9.480   9.903   9.750    9.711  0.214180\n",
       "M2   9.003   8.250  10.803    9.352  1.311794\n",
       "M3  10.203  11.280  13.503   11.662  1.682838\n",
       "M4   9.603   8.103   8.403    8.703  0.793725"
      ]
     },
     "execution_count": 363,
     "metadata": {},
     "output_type": "execute_result"
    }
   ],
   "source": [
    "data15 = pd.DataFrame({\n",
    "\"S1\":[9.003,9.48,9.003,10.203,9.603,9.303,9.003,9.003,8.103,8.559],\n",
    "\"S2\":[8.703,9.903,8.25,11.28,8.103,9.003,9.162,8.94,8.859,8.562],\n",
    "\"S3\":[8.403,9.75,10.803,13.503,8.403,9.303,8.703,8.703,7.95,7.68],\n",
    "\"Average\":[8.703,9.711,9.352,11.662,8.703,9.203,8.956,8.882,8.304,8.267],\n",
    "\"SD\":[0.3,0.214179831,1.31179381,1.682837782,0.793725393,0.173205081,0.233081531,0.158186599,0.486693949,0.508359125]\n",
    "  },\n",
    "index =[\"M0\",\"M1\",\"M2\",\"M3\",\"M4\",\"M5\",\"M6\",\"M7\",\"M8\",\"M9\"])\n",
    "data15.head()\n"
   ]
  },
  {
   "cell_type": "markdown",
   "id": "3ed6cd32",
   "metadata": {},
   "source": [
    "# VF1 - SF,VF2-SF,VF3-SF"
   ]
  },
  {
   "cell_type": "code",
   "execution_count": 364,
   "id": "9ab5403e",
   "metadata": {},
   "outputs": [
    {
     "data": {
      "text/plain": [
       "10.241666666666667"
      ]
     },
     "execution_count": 364,
     "metadata": {},
     "output_type": "execute_result"
    }
   ],
   "source": [
    "SF15= (data15['Average']['M1'] + data15['Average']['M2'] + data15['Average']['M3'])/3\n",
    "SF15"
   ]
  },
  {
   "cell_type": "code",
   "execution_count": 365,
   "id": "91e07a6c",
   "metadata": {
    "scrolled": true
   },
   "outputs": [
    {
     "data": {
      "text/plain": [
       "8.953999999999999"
      ]
     },
     "execution_count": 365,
     "metadata": {},
     "output_type": "execute_result"
    }
   ],
   "source": [
    "DPE15= (data15['Average']['M4'] + data15['Average']['M5'] + data15['Average']['M6'])/3\n",
    "DPE15"
   ]
  },
  {
   "cell_type": "code",
   "execution_count": 366,
   "id": "30452af0",
   "metadata": {},
   "outputs": [
    {
     "data": {
      "text/plain": [
       "8.484333333333334"
      ]
     },
     "execution_count": 366,
     "metadata": {},
     "output_type": "execute_result"
    }
   ],
   "source": [
    "PPE15= (data15['Average']['M7'] + data15['Average']['M8'] + data15['Average']['M9'])/3\n",
    "PPE15"
   ]
  },
  {
   "cell_type": "markdown",
   "id": "66767382",
   "metadata": {},
   "source": [
    "# PPE< DPE< SF(Overall)"
   ]
  },
  {
   "cell_type": "code",
   "execution_count": 367,
   "id": "06de65e3",
   "metadata": {
    "scrolled": true
   },
   "outputs": [
    {
     "name": "stderr",
     "output_type": "stream",
     "text": [
      "<ipython-input-290-15cafe7021ec>:5: SettingWithCopyWarning: \n",
      "A value is trying to be set on a copy of a slice from a DataFrame\n",
      "\n",
      "See the caveats in the documentation: https://pandas.pydata.org/pandas-docs/stable/user_guide/indexing.html#returning-a-view-versus-a-copy\n",
      "  dataset['Percent Change'][i] = (( dataset['Average'][i]-dataset['Average'][0])/ dataset['Average'][0])*100\n"
     ]
    },
    {
     "data": {
      "text/plain": [
       "<AxesSubplot:>"
      ]
     },
     "execution_count": 367,
     "metadata": {},
     "output_type": "execute_result"
    },
    {
     "data": {
      "image/png": "[encoded data removed]",
      "text/plain": [
       "<Figure size 432x288 with 1 Axes>"
      ]
     },
     "metadata": {
      "needs_background": "light"
     },
     "output_type": "display_data"
    }
   ],
   "source": [
    "Change(data15)\n",
    "data15['Percent Change'].plot(kind = 'barh')\n"
   ]
  },
  {
   "cell_type": "markdown",
   "id": "2dae12ab",
   "metadata": {},
   "source": [
    "# M3(SF-VF3) maximum and M9(PPE-VF3)"
   ]
  },
  {
   "cell_type": "code",
   "execution_count": 368,
   "id": "272aabd0",
   "metadata": {},
   "outputs": [],
   "source": [
    "train1 = (data11['Average'],data12['Average'],data13['Average'],data14['Average'],data15['Average'])"
   ]
  },
  {
   "cell_type": "code",
   "execution_count": 369,
   "id": "c8dc1381",
   "metadata": {},
   "outputs": [],
   "source": [
    "D1 = pd.DataFrame(train1,columns=['M0','M1','M2','M3','M4','M5','M6','M7','M8','M9'],index =['CS','D','WA','USPV','FS'])"
   ]
  },
  {
   "cell_type": "code",
   "execution_count": 370,
   "id": "369cc691",
   "metadata": {},
   "outputs": [],
   "source": [
    "DT2 = D1.T"
   ]
  },
  {
   "cell_type": "code",
   "execution_count": 371,
   "id": "83228043",
   "metadata": {},
   "outputs": [],
   "source": [
    "C =DT2.corr()"
   ]
  },
  {
   "cell_type": "code",
   "execution_count": 372,
   "id": "fa29abfe",
   "metadata": {
    "scrolled": false
   },
   "outputs": [
    {
     "data": {
      "text/plain": [
       "<AxesSubplot:>"
      ]
     },
     "execution_count": 372,
     "metadata": {},
     "output_type": "execute_result"
    },
    {
     "data": {
      "image/png": "[encoded data removed]",
      "text/plain": [
       "<Figure size 432x288 with 2 Axes>"
      ]
     },
     "metadata": {
      "needs_background": "light"
     },
     "output_type": "display_data"
    }
   ],
   "source": [
    "# plot the heatmap\n",
    "sns.heatmap(C, \n",
    "        xticklabels=C.columns,\n",
    "        yticklabels=C.columns,annot=True)"
   ]
  },
  {
   "cell_type": "markdown",
   "id": "34f6b791",
   "metadata": {},
   "source": [
    "# Across the samples trend of attributes (match)CS-D(-),CS-USPV(+)(anomaly),CS-FS(-),(match)D-FS(+),WA least correlated amongst all features,USPV-FS(-).\n",
    "\n"
   ]
  },
  {
   "cell_type": "code",
   "execution_count": 373,
   "id": "c49383ca",
   "metadata": {},
   "outputs": [
    {
     "data": {
      "text/html": [
       "<div>\n",
       "<style scoped>\n",
       "    .dataframe tbody tr th:only-of-type {\n",
       "        vertical-align: middle;\n",
       "    }\n",
       "\n",
       "    .dataframe tbody tr th {\n",
       "        vertical-align: top;\n",
       "    }\n",
       "\n",
       "    .dataframe thead th {\n",
       "        text-align: right;\n",
       "    }\n",
       "</style>\n",
       "<table border=\"1\" class=\"dataframe\">\n",
       "  <thead>\n",
       "    <tr style=\"text-align: right;\">\n",
       "      <th></th>\n",
       "      <th>SF</th>\n",
       "      <th>DPE</th>\n",
       "      <th>PPE</th>\n",
       "    </tr>\n",
       "  </thead>\n",
       "  <tbody>\n",
       "    <tr>\n",
       "      <th>CS</th>\n",
       "      <td>69.200000</td>\n",
       "      <td>68.666667</td>\n",
       "      <td>70.200000</td>\n",
       "    </tr>\n",
       "    <tr>\n",
       "      <th>D</th>\n",
       "      <td>2462.066667</td>\n",
       "      <td>2444.066667</td>\n",
       "      <td>2413.300000</td>\n",
       "    </tr>\n",
       "    <tr>\n",
       "      <th>WA</th>\n",
       "      <td>1.593469</td>\n",
       "      <td>1.726772</td>\n",
       "      <td>1.639671</td>\n",
       "    </tr>\n",
       "    <tr>\n",
       "      <th>USPV</th>\n",
       "      <td>4.549539</td>\n",
       "      <td>4.623601</td>\n",
       "      <td>4.547003</td>\n",
       "    </tr>\n",
       "    <tr>\n",
       "      <th>FS</th>\n",
       "      <td>10.241667</td>\n",
       "      <td>8.954000</td>\n",
       "      <td>8.484333</td>\n",
       "    </tr>\n",
       "  </tbody>\n",
       "</table>\n",
       "</div>"
      ],
      "text/plain": [
       "               SF          DPE          PPE\n",
       "CS      69.200000    68.666667    70.200000\n",
       "D     2462.066667  2444.066667  2413.300000\n",
       "WA       1.593469     1.726772     1.639671\n",
       "USPV     4.549539     4.623601     4.547003\n",
       "FS      10.241667     8.954000     8.484333"
      ]
     },
     "execution_count": 373,
     "metadata": {},
     "output_type": "execute_result"
    }
   ],
   "source": [
    "dataF1 = pd.DataFrame({\n",
    "\"SF\":[SF11,SF12,SF13,SF14,SF15],\n",
    "\"DPE\":[DPE11,DPE12,DPE13,DPE14,DPE15],\n",
    "\"PPE\":[PPE11,PPE12,PPE13,PPE14,PPE15],\n",
    "},\n",
    "index =['CS','D','WA','USPV','FS'])\n",
    "dataF1.head()\n"
   ]
  },
  {
   "cell_type": "code",
   "execution_count": 374,
   "id": "f253b744",
   "metadata": {},
   "outputs": [],
   "source": [
    "dataF2= dataF1.T"
   ]
  },
  {
   "cell_type": "code",
   "execution_count": 375,
   "id": "555f54c3",
   "metadata": {},
   "outputs": [
    {
     "data": {
      "text/plain": [
       "<AxesSubplot:>"
      ]
     },
     "execution_count": 375,
     "metadata": {},
     "output_type": "execute_result"
    },
    {
     "data": {
      "image/png": "[encoded data removed]",
      "text/plain": [
       "<Figure size 432x288 with 2 Axes>"
      ]
     },
     "metadata": {
      "needs_background": "light"
     },
     "output_type": "display_data"
    }
   ],
   "source": [
    "corr2 = dataF2.corr()\n",
    "\n",
    "# plot the heatmap\n",
    "sns.heatmap(corr2, \n",
    "        xticklabels=corr2.columns,\n",
    "        yticklabels=corr2.columns,annot=True)"
   ]
  },
  {
   "cell_type": "code",
   "execution_count": 376,
   "id": "55a75169",
   "metadata": {},
   "outputs": [
    {
     "name": "stdout",
     "output_type": "stream",
     "text": [
      "[3.5557465226494087, 4.666758332433058, 7.465395725166438]\n",
      "[7.39836693692151, 2.5405183198184855, 4.039929867378062]\n",
      "[6.0232881385502415, 5.17223678241177, 1.948495145832628]\n"
     ]
    },
    {
     "data": {
      "image/png": "[encoded data removed]",
      "text/plain": [
       "<Figure size 432x288 with 1 Axes>"
      ]
     },
     "metadata": {
      "needs_background": "light"
     },
     "output_type": "display_data"
    },
    {
     "name": "stdout",
     "output_type": "stream",
     "text": [
      "[10.718830782008524, 3.6041642581879216, 22.04812917233564]\n",
      "[15.901677060402433, 5.963220606350167, 31.56437865696078]\n",
      "[12.619033243478022, 26.14007141025701, 45.22491938448689]\n"
     ]
    },
    {
     "data": {
      "image/png": "[encoded data removed]",
      "text/plain": [
       "<Figure size 432x288 with 1 Axes>"
      ]
     },
     "metadata": {
      "needs_background": "light"
     },
     "output_type": "display_data"
    },
    {
     "name": "stdout",
     "output_type": "stream",
     "text": [
      "[0.0252001192731879, 0.03869399668274642, 0.030702413645666848]\n",
      "[0.0207359718804694, 0.027172631939113526, 0.16452109493431266]\n",
      "[0.011942636432953863, 0.07260553300927167, 0.0862900633183854]\n"
     ]
    },
    {
     "data": {
      "image/png": "[encoded data removed]",
      "text/plain": [
       "<Figure size 432x288 with 1 Axes>"
      ]
     },
     "metadata": {
      "needs_background": "light"
     },
     "output_type": "display_data"
    },
    {
     "name": "stdout",
     "output_type": "stream",
     "text": [
      "[0.07785547914565835, 0.09094460315113413, 0.17695333168435082]\n",
      "[0.021836524470678825, 0.0518051921123439, 0.02521455479778883]\n",
      "[0.049502723953200566, 0.050351919033674745, 0.06514175971962173]\n"
     ]
    },
    {
     "data": {
      "image/png": "[encoded data removed]",
      "text/plain": [
       "<Figure size 432x288 with 1 Axes>"
      ]
     },
     "metadata": {
      "needs_background": "light"
     },
     "output_type": "display_data"
    },
    {
     "name": "stdout",
     "output_type": "stream",
     "text": [
      "[0.21417983098321838, 1.3117938100174131, 1.682837781843515]\n",
      "[0.7937253933193771, 0.17320508075688812, 0.23308153079984764]\n",
      "[0.158186598673845, 0.4866939490069708, 0.5083591250287535]\n"
     ]
    },
    {
     "data": {
      "image/png": "[encoded data removed]",
      "text/plain": [
       "<Figure size 432x288 with 1 Axes>"
      ]
     },
     "metadata": {
      "needs_background": "light"
     },
     "output_type": "display_data"
    },
    {
     "data": {
      "text/plain": [
       "([9.711, 9.352, 11.662], [8.703, 9.203, 8.956], [8.882, 8.304, 8.267])"
      ]
     },
     "execution_count": 376,
     "metadata": {},
     "output_type": "execute_result"
    }
   ],
   "source": [
    "plot(data11,0,Iall)\n",
    "plot(data12,1,Iall)\n",
    "plot(data13,2,Iall)\n",
    "plot(data14,3,Iall)\n",
    "plot(data15,4,Iall)\n"
   ]
  },
  {
   "cell_type": "markdown",
   "id": "8b922f3a",
   "metadata": {},
   "source": [
    "# Across the materials (SF,DPE,PPE): CS-D(-),USPV-CS(-),D-FS(+),WA-USPV(+)\n",
    "\n"
   ]
  },
  {
   "cell_type": "markdown",
   "id": "f21e7991",
   "metadata": {},
   "source": [
    "# Test 3:WET DRY"
   ]
  },
  {
   "cell_type": "markdown",
   "id": "58ff371c",
   "metadata": {},
   "source": [
    "# 1. Comp Strength"
   ]
  },
  {
   "cell_type": "code",
   "execution_count": 377,
   "id": "6e0294ce",
   "metadata": {},
   "outputs": [
    {
     "data": {
      "text/html": [
       "<div>\n",
       "<style scoped>\n",
       "    .dataframe tbody tr th:only-of-type {\n",
       "        vertical-align: middle;\n",
       "    }\n",
       "\n",
       "    .dataframe tbody tr th {\n",
       "        vertical-align: top;\n",
       "    }\n",
       "\n",
       "    .dataframe thead th {\n",
       "        text-align: right;\n",
       "    }\n",
       "</style>\n",
       "<table border=\"1\" class=\"dataframe\">\n",
       "  <thead>\n",
       "    <tr style=\"text-align: right;\">\n",
       "      <th></th>\n",
       "      <th>S1</th>\n",
       "      <th>S2</th>\n",
       "      <th>S3</th>\n",
       "      <th>Average</th>\n",
       "      <th>SD</th>\n",
       "    </tr>\n",
       "  </thead>\n",
       "  <tbody>\n",
       "    <tr>\n",
       "      <th>M0</th>\n",
       "      <td>62.00</td>\n",
       "      <td>58.90</td>\n",
       "      <td>74.40</td>\n",
       "      <td>60.5</td>\n",
       "      <td>8.201829</td>\n",
       "    </tr>\n",
       "    <tr>\n",
       "      <th>M1</th>\n",
       "      <td>58.21</td>\n",
       "      <td>68.10</td>\n",
       "      <td>63.92</td>\n",
       "      <td>63.4</td>\n",
       "      <td>4.964685</td>\n",
       "    </tr>\n",
       "    <tr>\n",
       "      <th>M2</th>\n",
       "      <td>74.00</td>\n",
       "      <td>74.60</td>\n",
       "      <td>62.00</td>\n",
       "      <td>74.3</td>\n",
       "      <td>7.107742</td>\n",
       "    </tr>\n",
       "    <tr>\n",
       "      <th>M3</th>\n",
       "      <td>67.40</td>\n",
       "      <td>69.50</td>\n",
       "      <td>71.82</td>\n",
       "      <td>69.6</td>\n",
       "      <td>2.210912</td>\n",
       "    </tr>\n",
       "    <tr>\n",
       "      <th>M4</th>\n",
       "      <td>77.00</td>\n",
       "      <td>68.24</td>\n",
       "      <td>69.40</td>\n",
       "      <td>71.5</td>\n",
       "      <td>4.758207</td>\n",
       "    </tr>\n",
       "  </tbody>\n",
       "</table>\n",
       "</div>"
      ],
      "text/plain": [
       "       S1     S2     S3  Average        SD\n",
       "M0  62.00  58.90  74.40     60.5  8.201829\n",
       "M1  58.21  68.10  63.92     63.4  4.964685\n",
       "M2  74.00  74.60  62.00     74.3  7.107742\n",
       "M3  67.40  69.50  71.82     69.6  2.210912\n",
       "M4  77.00  68.24  69.40     71.5  4.758207"
      ]
     },
     "execution_count": 377,
     "metadata": {},
     "output_type": "execute_result"
    }
   ],
   "source": [
    "data21 = pd.DataFrame({\n",
    "\"S1\":[62,58.21,74,67.4,77,64.4,77.41,71.14,67.2,76.51],\n",
    "\"S2\":[58.9,68.1,74.6,69.5,68.24,72.63,78.91,67.36,71.6,70.14],\n",
    "\"S3\":[74.4,63.92,62,71.82,69.4,63.9,70.52,67.05,64.5,67.61],\n",
    "\"Average\":[60.5,63.4,74.3,69.6,71.5,67.0,75.6,68.5,67.8,71.4],\n",
    "\"SD\":[8.201829064,4.964685287,7.107742258,2.210912331,4.758206945,4.90230898,4.47426344,2.277154657,3.583759665,4.585989533]\n",
    "  },\n",
    "index =[\"M0\",\"M1\",\"M2\",\"M3\",\"M4\",\"M5\",\"M6\",\"M7\",\"M8\",\"M9\"])\n",
    "data21.head()\n"
   ]
  },
  {
   "cell_type": "code",
   "execution_count": 378,
   "id": "ccd1be4e",
   "metadata": {},
   "outputs": [],
   "source": [
    " data21.loc['M0','S3'] = data21['Average']['M0']"
   ]
  },
  {
   "cell_type": "code",
   "execution_count": 379,
   "id": "6200e53b",
   "metadata": {},
   "outputs": [
    {
     "data": {
      "text/plain": [
       "60.45"
      ]
     },
     "execution_count": 379,
     "metadata": {},
     "output_type": "execute_result"
    }
   ],
   "source": [
    "mean(data21.loc[ 'M0', ['S1','S2']])"
   ]
  },
  {
   "cell_type": "code",
   "execution_count": 380,
   "id": "4805b2fc",
   "metadata": {},
   "outputs": [
    {
     "data": {
      "text/plain": [
       "74.3"
      ]
     },
     "execution_count": 380,
     "metadata": {},
     "output_type": "execute_result"
    }
   ],
   "source": [
    "mean(data21.loc[ 'M2', ['S1','S2']])"
   ]
  },
  {
   "cell_type": "code",
   "execution_count": 381,
   "id": "40576938",
   "metadata": {},
   "outputs": [],
   "source": [
    "data21.loc['M2','S3'] = data21['Average']['M2']"
   ]
  },
  {
   "cell_type": "code",
   "execution_count": 382,
   "id": "2ade051e",
   "metadata": {},
   "outputs": [
    {
     "name": "stderr",
     "output_type": "stream",
     "text": [
      "<ipython-input-290-15cafe7021ec>:5: SettingWithCopyWarning: \n",
      "A value is trying to be set on a copy of a slice from a DataFrame\n",
      "\n",
      "See the caveats in the documentation: https://pandas.pydata.org/pandas-docs/stable/user_guide/indexing.html#returning-a-view-versus-a-copy\n",
      "  dataset['Percent Change'][i] = (( dataset['Average'][i]-dataset['Average'][0])/ dataset['Average'][0])*100\n"
     ]
    },
    {
     "data": {
      "text/plain": [
       "<AxesSubplot:>"
      ]
     },
     "execution_count": 382,
     "metadata": {},
     "output_type": "execute_result"
    },
    {
     "data": {
      "image/png": "[encoded data removed]",
      "text/plain": [
       "<Figure size 432x288 with 1 Axes>"
      ]
     },
     "metadata": {
      "needs_background": "light"
     },
     "output_type": "display_data"
    }
   ],
   "source": [
    "Change(data21)\n",
    "data12['Percent Change'].plot(kind = 'barh')\n"
   ]
  },
  {
   "cell_type": "markdown",
   "id": "d00780bb",
   "metadata": {},
   "source": [
    "# M3(SF-VF3)- maximum while M8(PPE-VF2) minimum"
   ]
  },
  {
   "cell_type": "markdown",
   "id": "67f9a2f4",
   "metadata": {},
   "source": [
    "# VF1-DPE,VF2-SF,VF3-DPE(across Volume fractions)"
   ]
  },
  {
   "cell_type": "code",
   "execution_count": 383,
   "id": "c08ff017",
   "metadata": {},
   "outputs": [
    {
     "data": {
      "text/plain": [
       "69.1"
      ]
     },
     "execution_count": 383,
     "metadata": {},
     "output_type": "execute_result"
    }
   ],
   "source": [
    "SF21= (data21['Average']['M1'] + data21['Average']['M2'] + data21['Average']['M3'])/3\n",
    "SF21"
   ]
  },
  {
   "cell_type": "code",
   "execution_count": 384,
   "id": "19295353",
   "metadata": {},
   "outputs": [
    {
     "data": {
      "text/plain": [
       "71.36666666666666"
      ]
     },
     "execution_count": 384,
     "metadata": {},
     "output_type": "execute_result"
    }
   ],
   "source": [
    "DPE21= (data21['Average']['M4'] + data21['Average']['M5'] + data21['Average']['M6'])/3\n",
    "DPE21"
   ]
  },
  {
   "cell_type": "code",
   "execution_count": 385,
   "id": "339cb033",
   "metadata": {},
   "outputs": [
    {
     "data": {
      "text/plain": [
       "69.23333333333333"
      ]
     },
     "execution_count": 385,
     "metadata": {},
     "output_type": "execute_result"
    }
   ],
   "source": [
    "PPE21= (data21['Average']['M7'] + data21['Average']['M8'] + data21['Average']['M9'])/3\n",
    "PPE21"
   ]
  },
  {
   "cell_type": "markdown",
   "id": "9b08e722",
   "metadata": {},
   "source": [
    "# SF< PPE< DPE(overall)"
   ]
  },
  {
   "cell_type": "markdown",
   "id": "1dcc8247",
   "metadata": {},
   "source": [
    "# 2.Density"
   ]
  },
  {
   "cell_type": "code",
   "execution_count": 386,
   "id": "5e6c45f8",
   "metadata": {},
   "outputs": [
    {
     "data": {
      "text/html": [
       "<div>\n",
       "<style scoped>\n",
       "    .dataframe tbody tr th:only-of-type {\n",
       "        vertical-align: middle;\n",
       "    }\n",
       "\n",
       "    .dataframe tbody tr th {\n",
       "        vertical-align: top;\n",
       "    }\n",
       "\n",
       "    .dataframe thead th {\n",
       "        text-align: right;\n",
       "    }\n",
       "</style>\n",
       "<table border=\"1\" class=\"dataframe\">\n",
       "  <thead>\n",
       "    <tr style=\"text-align: right;\">\n",
       "      <th></th>\n",
       "      <th>S1</th>\n",
       "      <th>S2</th>\n",
       "      <th>S3</th>\n",
       "      <th>Average</th>\n",
       "    </tr>\n",
       "  </thead>\n",
       "  <tbody>\n",
       "    <tr>\n",
       "      <th>M0</th>\n",
       "      <td>2490.0</td>\n",
       "      <td>2504.0</td>\n",
       "      <td>2502.1</td>\n",
       "      <td>2498.7</td>\n",
       "    </tr>\n",
       "    <tr>\n",
       "      <th>M1</th>\n",
       "      <td>2497.6</td>\n",
       "      <td>2518.7</td>\n",
       "      <td>2470.8</td>\n",
       "      <td>2495.7</td>\n",
       "    </tr>\n",
       "    <tr>\n",
       "      <th>M2</th>\n",
       "      <td>2476.0</td>\n",
       "      <td>2480.7</td>\n",
       "      <td>2496.6</td>\n",
       "      <td>2484.4</td>\n",
       "    </tr>\n",
       "    <tr>\n",
       "      <th>M3</th>\n",
       "      <td>2600.6</td>\n",
       "      <td>2583.3</td>\n",
       "      <td>2621.0</td>\n",
       "      <td>2601.6</td>\n",
       "    </tr>\n",
       "    <tr>\n",
       "      <th>M4</th>\n",
       "      <td>2531.8</td>\n",
       "      <td>2602.1</td>\n",
       "      <td>2514.9</td>\n",
       "      <td>2549.6</td>\n",
       "    </tr>\n",
       "  </tbody>\n",
       "</table>\n",
       "</div>"
      ],
      "text/plain": [
       "        S1      S2      S3  Average\n",
       "M0  2490.0  2504.0  2502.1   2498.7\n",
       "M1  2497.6  2518.7  2470.8   2495.7\n",
       "M2  2476.0  2480.7  2496.6   2484.4\n",
       "M3  2600.6  2583.3  2621.0   2601.6\n",
       "M4  2531.8  2602.1  2514.9   2549.6"
      ]
     },
     "execution_count": 386,
     "metadata": {},
     "output_type": "execute_result"
    }
   ],
   "source": [
    "data22 =pd.DataFrame({\n",
    "\"S1\":[2490.0,2497.6,2476.0,2600.6,2531.8,2524.1,2503.3,2495.0,2494.7,2568.8],\n",
    "\"S2\":[2504.0,2518.7,2480.7,2583.3,2602.1,2450.1,2538.8,2515.7,2521.3,2558.3],\n",
    "\"S3\":[2502.1,2470.8,2496.6,2621.0,2514.9,2488.3,2466.3,2520.3,2474.3,2508.4],\n",
    "\"Average\":[2498.7,2495.7,2484.4,2601.6,2549.6,2487.5,2502.8,2510.3,2496.8,2545.2]},\n",
    "index =[\"M0\",\"M1\",\"M2\",\"M3\",\"M4\",\"M5\",\"M6\",\"M7\",\"M8\",\"M9\"])\n",
    "data22.head()       \n"
   ]
  },
  {
   "cell_type": "code",
   "execution_count": 387,
   "id": "886eed9f",
   "metadata": {
    "scrolled": true
   },
   "outputs": [
    {
     "name": "stderr",
     "output_type": "stream",
     "text": [
      "<ipython-input-290-15cafe7021ec>:5: SettingWithCopyWarning: \n",
      "A value is trying to be set on a copy of a slice from a DataFrame\n",
      "\n",
      "See the caveats in the documentation: https://pandas.pydata.org/pandas-docs/stable/user_guide/indexing.html#returning-a-view-versus-a-copy\n",
      "  dataset['Percent Change'][i] = (( dataset['Average'][i]-dataset['Average'][0])/ dataset['Average'][0])*100\n"
     ]
    },
    {
     "data": {
      "text/plain": [
       "<AxesSubplot:>"
      ]
     },
     "execution_count": 387,
     "metadata": {},
     "output_type": "execute_result"
    },
    {
     "data": {
      "image/png": "[encoded data removed]",
      "text/plain": [
       "<Figure size 432x288 with 1 Axes>"
      ]
     },
     "metadata": {
      "needs_background": "light"
     },
     "output_type": "display_data"
    }
   ],
   "source": [
    "Change(data22)\n",
    "data22['Percent Change'].plot(kind = 'barh')\n"
   ]
  },
  {
   "cell_type": "markdown",
   "id": "e20a45ab",
   "metadata": {},
   "source": [
    "# M3(SF-VF3) maximum while M2(SF-VF2) minimum"
   ]
  },
  {
   "cell_type": "code",
   "execution_count": 388,
   "id": "cba6b193",
   "metadata": {},
   "outputs": [
    {
     "data": {
      "text/html": [
       "<div>\n",
       "<style scoped>\n",
       "    .dataframe tbody tr th:only-of-type {\n",
       "        vertical-align: middle;\n",
       "    }\n",
       "\n",
       "    .dataframe tbody tr th {\n",
       "        vertical-align: top;\n",
       "    }\n",
       "\n",
       "    .dataframe thead th {\n",
       "        text-align: right;\n",
       "    }\n",
       "</style>\n",
       "<table border=\"1\" class=\"dataframe\">\n",
       "  <thead>\n",
       "    <tr style=\"text-align: right;\">\n",
       "      <th></th>\n",
       "      <th>S1</th>\n",
       "      <th>S2</th>\n",
       "      <th>S3</th>\n",
       "      <th>Average</th>\n",
       "      <th>Percent Change</th>\n",
       "    </tr>\n",
       "  </thead>\n",
       "  <tbody>\n",
       "    <tr>\n",
       "      <th>M0</th>\n",
       "      <td>2490.0</td>\n",
       "      <td>2504.0</td>\n",
       "      <td>2502.1</td>\n",
       "      <td>2498.7</td>\n",
       "      <td>0.0</td>\n",
       "    </tr>\n",
       "    <tr>\n",
       "      <th>M1</th>\n",
       "      <td>2497.6</td>\n",
       "      <td>2518.7</td>\n",
       "      <td>2470.8</td>\n",
       "      <td>2495.7</td>\n",
       "      <td>-0.120062</td>\n",
       "    </tr>\n",
       "    <tr>\n",
       "      <th>M2</th>\n",
       "      <td>2476.0</td>\n",
       "      <td>2480.7</td>\n",
       "      <td>2496.6</td>\n",
       "      <td>2484.4</td>\n",
       "      <td>-0.572298</td>\n",
       "    </tr>\n",
       "    <tr>\n",
       "      <th>M3</th>\n",
       "      <td>2600.6</td>\n",
       "      <td>2583.3</td>\n",
       "      <td>2621.0</td>\n",
       "      <td>2601.6</td>\n",
       "      <td>4.118141</td>\n",
       "    </tr>\n",
       "    <tr>\n",
       "      <th>M4</th>\n",
       "      <td>2531.8</td>\n",
       "      <td>2602.1</td>\n",
       "      <td>2514.9</td>\n",
       "      <td>2549.6</td>\n",
       "      <td>2.037059</td>\n",
       "    </tr>\n",
       "    <tr>\n",
       "      <th>M5</th>\n",
       "      <td>2524.1</td>\n",
       "      <td>2450.1</td>\n",
       "      <td>2488.3</td>\n",
       "      <td>2487.5</td>\n",
       "      <td>-0.448233</td>\n",
       "    </tr>\n",
       "    <tr>\n",
       "      <th>M6</th>\n",
       "      <td>2503.3</td>\n",
       "      <td>2538.8</td>\n",
       "      <td>2466.3</td>\n",
       "      <td>2502.8</td>\n",
       "      <td>0.164085</td>\n",
       "    </tr>\n",
       "    <tr>\n",
       "      <th>M7</th>\n",
       "      <td>2495.0</td>\n",
       "      <td>2515.7</td>\n",
       "      <td>2520.3</td>\n",
       "      <td>2510.3</td>\n",
       "      <td>0.464241</td>\n",
       "    </tr>\n",
       "    <tr>\n",
       "      <th>M8</th>\n",
       "      <td>2494.7</td>\n",
       "      <td>2521.3</td>\n",
       "      <td>2474.3</td>\n",
       "      <td>2496.8</td>\n",
       "      <td>-0.07604</td>\n",
       "    </tr>\n",
       "    <tr>\n",
       "      <th>M9</th>\n",
       "      <td>2568.8</td>\n",
       "      <td>2558.3</td>\n",
       "      <td>2508.4</td>\n",
       "      <td>2545.2</td>\n",
       "      <td>1.860968</td>\n",
       "    </tr>\n",
       "  </tbody>\n",
       "</table>\n",
       "</div>"
      ],
      "text/plain": [
       "        S1      S2      S3  Average Percent Change\n",
       "M0  2490.0  2504.0  2502.1   2498.7            0.0\n",
       "M1  2497.6  2518.7  2470.8   2495.7      -0.120062\n",
       "M2  2476.0  2480.7  2496.6   2484.4      -0.572298\n",
       "M3  2600.6  2583.3  2621.0   2601.6       4.118141\n",
       "M4  2531.8  2602.1  2514.9   2549.6       2.037059\n",
       "M5  2524.1  2450.1  2488.3   2487.5      -0.448233\n",
       "M6  2503.3  2538.8  2466.3   2502.8       0.164085\n",
       "M7  2495.0  2515.7  2520.3   2510.3       0.464241\n",
       "M8  2494.7  2521.3  2474.3   2496.8       -0.07604\n",
       "M9  2568.8  2558.3  2508.4   2545.2       1.860968"
      ]
     },
     "execution_count": 388,
     "metadata": {},
     "output_type": "execute_result"
    }
   ],
   "source": [
    "data22"
   ]
  },
  {
   "cell_type": "markdown",
   "id": "0d27ad9a",
   "metadata": {},
   "source": [
    "# VF1(DPE),VF2(PPE),VF3(SF) - Across volume fractions"
   ]
  },
  {
   "cell_type": "code",
   "execution_count": 389,
   "id": "9b3ed1af",
   "metadata": {},
   "outputs": [
    {
     "data": {
      "text/plain": [
       "2527.2333333333336"
      ]
     },
     "execution_count": 389,
     "metadata": {},
     "output_type": "execute_result"
    }
   ],
   "source": [
    "SF22= (data22['Average']['M1'] + data22['Average']['M2'] + data22['Average']['M3'])/3\n",
    "SF22"
   ]
  },
  {
   "cell_type": "code",
   "execution_count": 390,
   "id": "d0d9bd20",
   "metadata": {},
   "outputs": [
    {
     "data": {
      "text/plain": [
       "2513.3"
      ]
     },
     "execution_count": 390,
     "metadata": {},
     "output_type": "execute_result"
    }
   ],
   "source": [
    "DPE22= (data22['Average']['M4'] + data22['Average']['M5'] + data22['Average']['M6'])/3\n",
    "DPE22"
   ]
  },
  {
   "cell_type": "code",
   "execution_count": 391,
   "id": "5e6fb9cf",
   "metadata": {},
   "outputs": [
    {
     "data": {
      "text/plain": [
       "2517.4333333333334"
      ]
     },
     "execution_count": 391,
     "metadata": {},
     "output_type": "execute_result"
    }
   ],
   "source": [
    "PPE22= (data22['Average']['M7'] + data22['Average']['M8'] + data22['Average']['M9'])/3\n",
    "PPE22"
   ]
  },
  {
   "cell_type": "markdown",
   "id": "4c1a321f",
   "metadata": {},
   "source": [
    "# DPE< PPE< SF(Overall)"
   ]
  },
  {
   "cell_type": "markdown",
   "id": "05c345cb",
   "metadata": {},
   "source": [
    "# 3.Water Absorption"
   ]
  },
  {
   "cell_type": "code",
   "execution_count": 392,
   "id": "65bb899b",
   "metadata": {},
   "outputs": [
    {
     "data": {
      "text/html": [
       "<div>\n",
       "<style scoped>\n",
       "    .dataframe tbody tr th:only-of-type {\n",
       "        vertical-align: middle;\n",
       "    }\n",
       "\n",
       "    .dataframe tbody tr th {\n",
       "        vertical-align: top;\n",
       "    }\n",
       "\n",
       "    .dataframe thead th {\n",
       "        text-align: right;\n",
       "    }\n",
       "</style>\n",
       "<table border=\"1\" class=\"dataframe\">\n",
       "  <thead>\n",
       "    <tr style=\"text-align: right;\">\n",
       "      <th></th>\n",
       "      <th>S1</th>\n",
       "      <th>S2</th>\n",
       "      <th>S3</th>\n",
       "      <th>Average</th>\n",
       "    </tr>\n",
       "  </thead>\n",
       "  <tbody>\n",
       "    <tr>\n",
       "      <th>M0</th>\n",
       "      <td>1.171762</td>\n",
       "      <td>1.245786</td>\n",
       "      <td>1.264676</td>\n",
       "      <td>1.227408</td>\n",
       "    </tr>\n",
       "    <tr>\n",
       "      <th>M1</th>\n",
       "      <td>1.758224</td>\n",
       "      <td>1.269958</td>\n",
       "      <td>1.345217</td>\n",
       "      <td>1.457799</td>\n",
       "    </tr>\n",
       "    <tr>\n",
       "      <th>M2</th>\n",
       "      <td>1.435705</td>\n",
       "      <td>1.517861</td>\n",
       "      <td>1.444716</td>\n",
       "      <td>1.476783</td>\n",
       "    </tr>\n",
       "    <tr>\n",
       "      <th>M3</th>\n",
       "      <td>1.223266</td>\n",
       "      <td>1.213206</td>\n",
       "      <td>1.162063</td>\n",
       "      <td>1.218236</td>\n",
       "    </tr>\n",
       "    <tr>\n",
       "      <th>M4</th>\n",
       "      <td>1.332736</td>\n",
       "      <td>1.201819</td>\n",
       "      <td>1.319564</td>\n",
       "      <td>1.267277</td>\n",
       "    </tr>\n",
       "  </tbody>\n",
       "</table>\n",
       "</div>"
      ],
      "text/plain": [
       "          S1        S2        S3   Average\n",
       "M0  1.171762  1.245786  1.264676  1.227408\n",
       "M1  1.758224  1.269958  1.345217  1.457799\n",
       "M2  1.435705  1.517861  1.444716  1.476783\n",
       "M3  1.223266  1.213206  1.162063  1.218236\n",
       "M4  1.332736  1.201819  1.319564  1.267277"
      ]
     },
     "execution_count": 392,
     "metadata": {},
     "output_type": "execute_result"
    }
   ],
   "source": [
    "data23 =pd.DataFrame({\n",
    "\"S1\":[1.171762182,1.758223616,1.435705368,1.223265725,1.332735572,1.377140289,1.165867372,0.973084886,0.92669204,1.023890785],\n",
    "\"S2\":[1.245785708,1.26995794,1.517860856,1.213206046,1.201818541,1.669837244,1.175704813,1.04299265,0.878734622,1.15501777],\n",
    "\"S3\":[1.264675592,1.345216776,1.444715817,1.162062759,1.31956397,1.504822082,1.294744859,0.938947886,0.922909881,1.123409879],\n",
    "\"Average\":[1.227407827,1.457799444,1.476783112,1.218235886,1.267277057,1.523488766,1.170786092,1.008038768,0.902713331,1.089454277]},\n",
    "index =[\"M0\",\"M1\",\"M2\",\"M3\",\"M4\",\"M5\",\"M6\",\"M7\",\"M8\",\"M9\"])\n",
    "data23.head()       \n"
   ]
  },
  {
   "cell_type": "code",
   "execution_count": 393,
   "id": "13135ab2",
   "metadata": {
    "scrolled": true
   },
   "outputs": [
    {
     "name": "stderr",
     "output_type": "stream",
     "text": [
      "<ipython-input-290-15cafe7021ec>:5: SettingWithCopyWarning: \n",
      "A value is trying to be set on a copy of a slice from a DataFrame\n",
      "\n",
      "See the caveats in the documentation: https://pandas.pydata.org/pandas-docs/stable/user_guide/indexing.html#returning-a-view-versus-a-copy\n",
      "  dataset['Percent Change'][i] = (( dataset['Average'][i]-dataset['Average'][0])/ dataset['Average'][0])*100\n"
     ]
    },
    {
     "data": {
      "text/plain": [
       "<AxesSubplot:>"
      ]
     },
     "execution_count": 393,
     "metadata": {},
     "output_type": "execute_result"
    },
    {
     "data": {
      "image/png": "[encoded data removed]",
      "text/plain": [
       "<Figure size 432x288 with 1 Axes>"
      ]
     },
     "metadata": {
      "needs_background": "light"
     },
     "output_type": "display_data"
    }
   ],
   "source": [
    "Change(data23)\n",
    "data23['Percent Change'].plot(kind = 'barh')\n"
   ]
  },
  {
   "cell_type": "markdown",
   "id": "fba45525",
   "metadata": {},
   "source": [
    "# M5(DPE-VF2) maximum while M8(PPE-VF2) is minimum"
   ]
  },
  {
   "cell_type": "markdown",
   "id": "e1d3c6d8",
   "metadata": {},
   "source": [
    "# VF1-SF,VF2-DPE,VF3-SF"
   ]
  },
  {
   "cell_type": "code",
   "execution_count": 394,
   "id": "c047b607",
   "metadata": {},
   "outputs": [
    {
     "data": {
      "text/plain": [
       "1.3842728139999998"
      ]
     },
     "execution_count": 394,
     "metadata": {},
     "output_type": "execute_result"
    }
   ],
   "source": [
    "SF23= (data23['Average']['M1'] + data23['Average']['M2'] + data23['Average']['M3'])/3\n",
    "SF23"
   ]
  },
  {
   "cell_type": "code",
   "execution_count": 395,
   "id": "6b7bc8d9",
   "metadata": {},
   "outputs": [
    {
     "data": {
      "text/plain": [
       "1.320517305"
      ]
     },
     "execution_count": 395,
     "metadata": {},
     "output_type": "execute_result"
    }
   ],
   "source": [
    "DPE23= (data23['Average']['M4'] + data23['Average']['M5'] + data23['Average']['M6'])/3\n",
    "DPE23"
   ]
  },
  {
   "cell_type": "code",
   "execution_count": 396,
   "id": "a8786111",
   "metadata": {},
   "outputs": [
    {
     "data": {
      "text/plain": [
       "1.000068792"
      ]
     },
     "execution_count": 396,
     "metadata": {},
     "output_type": "execute_result"
    }
   ],
   "source": [
    "PPE23= (data23['Average']['M7'] + data23['Average']['M8'] + data23['Average']['M9'])/3\n",
    "PPE23"
   ]
  },
  {
   "cell_type": "markdown",
   "id": "db052771",
   "metadata": {},
   "source": [
    "# PPE< DPE< SF(overall)"
   ]
  },
  {
   "cell_type": "markdown",
   "id": "bdb6339a",
   "metadata": {},
   "source": [
    "# 4.USPV"
   ]
  },
  {
   "cell_type": "code",
   "execution_count": 397,
   "id": "fabea4ae",
   "metadata": {},
   "outputs": [
    {
     "data": {
      "text/html": [
       "<div>\n",
       "<style scoped>\n",
       "    .dataframe tbody tr th:only-of-type {\n",
       "        vertical-align: middle;\n",
       "    }\n",
       "\n",
       "    .dataframe tbody tr th {\n",
       "        vertical-align: top;\n",
       "    }\n",
       "\n",
       "    .dataframe thead th {\n",
       "        text-align: right;\n",
       "    }\n",
       "</style>\n",
       "<table border=\"1\" class=\"dataframe\">\n",
       "  <thead>\n",
       "    <tr style=\"text-align: right;\">\n",
       "      <th></th>\n",
       "      <th>S1</th>\n",
       "      <th>S2</th>\n",
       "      <th>S3</th>\n",
       "      <th>Average</th>\n",
       "      <th>SD</th>\n",
       "    </tr>\n",
       "  </thead>\n",
       "  <tbody>\n",
       "    <tr>\n",
       "      <th>M0</th>\n",
       "      <td>4.739336</td>\n",
       "      <td>4.784689</td>\n",
       "      <td>4.807692</td>\n",
       "      <td>4.777239</td>\n",
       "      <td>0.034782</td>\n",
       "    </tr>\n",
       "    <tr>\n",
       "      <th>M1</th>\n",
       "      <td>4.739336</td>\n",
       "      <td>4.761905</td>\n",
       "      <td>4.926108</td>\n",
       "      <td>4.809117</td>\n",
       "      <td>0.101944</td>\n",
       "    </tr>\n",
       "    <tr>\n",
       "      <th>M2</th>\n",
       "      <td>4.651163</td>\n",
       "      <td>4.629630</td>\n",
       "      <td>4.716981</td>\n",
       "      <td>4.665925</td>\n",
       "      <td>0.045508</td>\n",
       "    </tr>\n",
       "    <tr>\n",
       "      <th>M3</th>\n",
       "      <td>4.032258</td>\n",
       "      <td>4.366812</td>\n",
       "      <td>4.504505</td>\n",
       "      <td>4.301192</td>\n",
       "      <td>0.242866</td>\n",
       "    </tr>\n",
       "    <tr>\n",
       "      <th>M4</th>\n",
       "      <td>4.761905</td>\n",
       "      <td>4.926108</td>\n",
       "      <td>4.854369</td>\n",
       "      <td>4.847461</td>\n",
       "      <td>0.082319</td>\n",
       "    </tr>\n",
       "  </tbody>\n",
       "</table>\n",
       "</div>"
      ],
      "text/plain": [
       "          S1        S2        S3   Average        SD\n",
       "M0  4.739336  4.784689  4.807692  4.777239  0.034782\n",
       "M1  4.739336  4.761905  4.926108  4.809117  0.101944\n",
       "M2  4.651163  4.629630  4.716981  4.665925  0.045508\n",
       "M3  4.032258  4.366812  4.504505  4.301192  0.242866\n",
       "M4  4.761905  4.926108  4.854369  4.847461  0.082319"
      ]
     },
     "execution_count": 397,
     "metadata": {},
     "output_type": "execute_result"
    }
   ],
   "source": [
    "data24 =pd.DataFrame({\n",
    "\"S1\":[4.739336493,4.739336493,4.651162791,4.032258065,4.761904762,4.694835681,4.784688995,4.672897196,4.739336493,4.694835681],\n",
    "\"S2\":[4.784688995,4.761904762,4.62962963,4.366812227,4.926108374,4.716981132,4.87804878,4.716981132,4.62962963,4.784688995],\n",
    "\"S3\":[4.807692308,4.926108374,4.716981132,4.504504505,4.854368932,4.484304933,4.87804878,4.587155963,4.694835681,4.807692308],\n",
    "\"Average\":[4.777239265,4.809116543,4.665924517,4.301191599,4.847460689,4.632040582,4.846928852,4.659011431,4.687933934,4.762405661],\n",
    "\"SD\":[0.034781507,0.101944338,0.04550827,0.242865653,0.082319496,0.128421072,0.053901297,0.066017077,0.055178116,0.059636942]},\n",
    "index =[\"M0\",\"M1\",\"M2\",\"M3\",\"M4\",\"M5\",\"M6\",\"M7\",\"M8\",\"M9\"])\n",
    "data24.head()       \n"
   ]
  },
  {
   "cell_type": "code",
   "execution_count": 398,
   "id": "6dd7180b",
   "metadata": {},
   "outputs": [
    {
     "name": "stderr",
     "output_type": "stream",
     "text": [
      "<ipython-input-290-15cafe7021ec>:5: SettingWithCopyWarning: \n",
      "A value is trying to be set on a copy of a slice from a DataFrame\n",
      "\n",
      "See the caveats in the documentation: https://pandas.pydata.org/pandas-docs/stable/user_guide/indexing.html#returning-a-view-versus-a-copy\n",
      "  dataset['Percent Change'][i] = (( dataset['Average'][i]-dataset['Average'][0])/ dataset['Average'][0])*100\n"
     ]
    },
    {
     "data": {
      "text/plain": [
       "<AxesSubplot:>"
      ]
     },
     "execution_count": 398,
     "metadata": {},
     "output_type": "execute_result"
    },
    {
     "data": {
      "image/png": "[encoded data removed]",
      "text/plain": [
       "<Figure size 432x288 with 1 Axes>"
      ]
     },
     "metadata": {
      "needs_background": "light"
     },
     "output_type": "display_data"
    }
   ],
   "source": [
    "Change(data24)\n",
    "data24['Percent Change'].plot(kind = 'barh')\n"
   ]
  },
  {
   "cell_type": "markdown",
   "id": "df80a567",
   "metadata": {},
   "source": [
    "# M4 is maximum while M3 is minimum."
   ]
  },
  {
   "cell_type": "markdown",
   "id": "67c9e07e",
   "metadata": {},
   "source": [
    "#  DPE(VF1),SF(VF2),DPE(VF3)"
   ]
  },
  {
   "cell_type": "code",
   "execution_count": 399,
   "id": "9077ceb4",
   "metadata": {},
   "outputs": [
    {
     "data": {
      "text/plain": [
       "4.592077552999999"
      ]
     },
     "execution_count": 399,
     "metadata": {},
     "output_type": "execute_result"
    }
   ],
   "source": [
    "SF24= (data24['Average']['M1'] + data24['Average']['M2'] + data24['Average']['M3'])/3\n",
    "SF24"
   ]
  },
  {
   "cell_type": "code",
   "execution_count": 400,
   "id": "b05965f4",
   "metadata": {},
   "outputs": [
    {
     "data": {
      "text/plain": [
       "4.775476707666667"
      ]
     },
     "execution_count": 400,
     "metadata": {},
     "output_type": "execute_result"
    }
   ],
   "source": [
    "DPE24= (data24['Average']['M4'] + data24['Average']['M5'] + data24['Average']['M6'])/3\n",
    "DPE24"
   ]
  },
  {
   "cell_type": "code",
   "execution_count": 401,
   "id": "abc3c857",
   "metadata": {},
   "outputs": [
    {
     "data": {
      "text/plain": [
       "4.703117008666666"
      ]
     },
     "execution_count": 401,
     "metadata": {},
     "output_type": "execute_result"
    }
   ],
   "source": [
    "PPE24= (data24['Average']['M7'] + data24['Average']['M8'] + data24['Average']['M9'])/3\n",
    "PPE24"
   ]
  },
  {
   "cell_type": "markdown",
   "id": "e618873c",
   "metadata": {},
   "source": [
    "# SF < PPE< DPE(overall)"
   ]
  },
  {
   "cell_type": "markdown",
   "id": "3612493d",
   "metadata": {},
   "source": [
    "# 5.. Flexure strength"
   ]
  },
  {
   "cell_type": "code",
   "execution_count": 402,
   "id": "393ac7f5",
   "metadata": {},
   "outputs": [
    {
     "data": {
      "text/html": [
       "<div>\n",
       "<style scoped>\n",
       "    .dataframe tbody tr th:only-of-type {\n",
       "        vertical-align: middle;\n",
       "    }\n",
       "\n",
       "    .dataframe tbody tr th {\n",
       "        vertical-align: top;\n",
       "    }\n",
       "\n",
       "    .dataframe thead th {\n",
       "        text-align: right;\n",
       "    }\n",
       "</style>\n",
       "<table border=\"1\" class=\"dataframe\">\n",
       "  <thead>\n",
       "    <tr style=\"text-align: right;\">\n",
       "      <th></th>\n",
       "      <th>S1</th>\n",
       "      <th>S2</th>\n",
       "      <th>S3</th>\n",
       "      <th>Average</th>\n",
       "      <th>SD</th>\n",
       "    </tr>\n",
       "  </thead>\n",
       "  <tbody>\n",
       "    <tr>\n",
       "      <th>M0</th>\n",
       "      <td>6.603</td>\n",
       "      <td>7.503</td>\n",
       "      <td>8.403</td>\n",
       "      <td>7.503</td>\n",
       "      <td>0.900000</td>\n",
       "    </tr>\n",
       "    <tr>\n",
       "      <th>M1</th>\n",
       "      <td>8.670</td>\n",
       "      <td>9.303</td>\n",
       "      <td>8.703</td>\n",
       "      <td>8.892</td>\n",
       "      <td>0.356319</td>\n",
       "    </tr>\n",
       "    <tr>\n",
       "      <th>M2</th>\n",
       "      <td>9.003</td>\n",
       "      <td>6.903</td>\n",
       "      <td>9.603</td>\n",
       "      <td>9.303</td>\n",
       "      <td>0.424264</td>\n",
       "    </tr>\n",
       "    <tr>\n",
       "      <th>M3</th>\n",
       "      <td>12.303</td>\n",
       "      <td>12.603</td>\n",
       "      <td>11.703</td>\n",
       "      <td>12.203</td>\n",
       "      <td>0.458258</td>\n",
       "    </tr>\n",
       "    <tr>\n",
       "      <th>M4</th>\n",
       "      <td>7.503</td>\n",
       "      <td>8.703</td>\n",
       "      <td>7.503</td>\n",
       "      <td>7.903</td>\n",
       "      <td>0.692820</td>\n",
       "    </tr>\n",
       "  </tbody>\n",
       "</table>\n",
       "</div>"
      ],
      "text/plain": [
       "        S1      S2      S3  Average        SD\n",
       "M0   6.603   7.503   8.403    7.503  0.900000\n",
       "M1   8.670   9.303   8.703    8.892  0.356319\n",
       "M2   9.003   6.903   9.603    9.303  0.424264\n",
       "M3  12.303  12.603  11.703   12.203  0.458258\n",
       "M4   7.503   8.703   7.503    7.903  0.692820"
      ]
     },
     "execution_count": 402,
     "metadata": {},
     "output_type": "execute_result"
    }
   ],
   "source": [
    "data25 = pd.DataFrame({\n",
    "\"S1\":[6.603,8.67,9.003,12.303,7.503,9.18,7.203,10.146,9.183,8.703],\n",
    "\"S2\":[7.503,9.303,6.903,12.603,8.703,10.203,6.603,9.48,8.403,9.303],\n",
    "\"S3\":[8.403,8.703,9.603,11.703,7.503,8.703,7.503,9.603,9.303,8.703],\n",
    "\"Average\":[7.503,8.892,9.303,12.203,7.903,9.362,7.103,9.743,8.963,8.903],\n",
    "\"SD\":[0.9,0.356318678,0.424264069,0.458257569,0.692820323,0.766383063,0.458257569,0.354385383,0.488671669,0.346410162]},\n",
    "index =[\"M0\",\"M1\",\"M2\",\"M3\",\"M4\",\"M5\",\"M6\",\"M7\",\"M8\",\"M9\"])\n",
    "data25.head()       \n"
   ]
  },
  {
   "cell_type": "code",
   "execution_count": 403,
   "id": "ace0fadc",
   "metadata": {
    "scrolled": true
   },
   "outputs": [
    {
     "name": "stderr",
     "output_type": "stream",
     "text": [
      "<ipython-input-290-15cafe7021ec>:5: SettingWithCopyWarning: \n",
      "A value is trying to be set on a copy of a slice from a DataFrame\n",
      "\n",
      "See the caveats in the documentation: https://pandas.pydata.org/pandas-docs/stable/user_guide/indexing.html#returning-a-view-versus-a-copy\n",
      "  dataset['Percent Change'][i] = (( dataset['Average'][i]-dataset['Average'][0])/ dataset['Average'][0])*100\n"
     ]
    },
    {
     "data": {
      "text/plain": [
       "<AxesSubplot:>"
      ]
     },
     "execution_count": 403,
     "metadata": {},
     "output_type": "execute_result"
    },
    {
     "data": {
      "image/png": "[encoded data removed]",
      "text/plain": [
       "<Figure size 432x288 with 1 Axes>"
      ]
     },
     "metadata": {
      "needs_background": "light"
     },
     "output_type": "display_data"
    }
   ],
   "source": [
    "Change(data25)\n",
    "data25['Percent Change'].plot(kind = 'barh')\n"
   ]
  },
  {
   "cell_type": "markdown",
   "id": "bf30efb8",
   "metadata": {},
   "source": [
    "# M3(SF-VF3) is maximum while M6(DPE-VF3) is minimum"
   ]
  },
  {
   "cell_type": "markdown",
   "id": "0dbf1070",
   "metadata": {},
   "source": [
    "# VF1-DPE,VF2-PPE,VF3-DPE"
   ]
  },
  {
   "cell_type": "code",
   "execution_count": 404,
   "id": "0b3cda63",
   "metadata": {},
   "outputs": [
    {
     "data": {
      "text/plain": [
       "10.132666666666667"
      ]
     },
     "execution_count": 404,
     "metadata": {},
     "output_type": "execute_result"
    }
   ],
   "source": [
    "SF25= (data25['Average']['M1'] + data25['Average']['M2'] + data25['Average']['M3'])/3\n",
    "SF25"
   ]
  },
  {
   "cell_type": "code",
   "execution_count": 405,
   "id": "f85d9839",
   "metadata": {},
   "outputs": [
    {
     "data": {
      "text/plain": [
       "8.122666666666667"
      ]
     },
     "execution_count": 405,
     "metadata": {},
     "output_type": "execute_result"
    }
   ],
   "source": [
    "DPE25= (data25['Average']['M4'] + data25['Average']['M5'] + data25['Average']['M6'])/3\n",
    "DPE25"
   ]
  },
  {
   "cell_type": "code",
   "execution_count": 406,
   "id": "12602078",
   "metadata": {},
   "outputs": [
    {
     "data": {
      "text/plain": [
       "9.203000000000001"
      ]
     },
     "execution_count": 406,
     "metadata": {},
     "output_type": "execute_result"
    }
   ],
   "source": [
    "PPE25= (data25['Average']['M7'] + data25['Average']['M8'] + data25['Average']['M9'])/3\n",
    "PPE25"
   ]
  },
  {
   "cell_type": "markdown",
   "id": "97235971",
   "metadata": {},
   "source": [
    "# DPE< PPE< SF(Overall)"
   ]
  },
  {
   "cell_type": "code",
   "execution_count": 407,
   "id": "71451b11",
   "metadata": {},
   "outputs": [],
   "source": [
    "train1 = (data21['Average'],data22['Average'],data23['Average'],data24['Average'],data25['Average'])"
   ]
  },
  {
   "cell_type": "code",
   "execution_count": 408,
   "id": "5cc69867",
   "metadata": {},
   "outputs": [],
   "source": [
    "D2 = pd.DataFrame(train1,columns=['M0','M1','M2','M3','M4','M5','M6','M7','M8','M9'],index =['CS','D','WA','USPV','FS'])"
   ]
  },
  {
   "cell_type": "code",
   "execution_count": 409,
   "id": "70f03137",
   "metadata": {},
   "outputs": [],
   "source": [
    "DT3 = D2.T"
   ]
  },
  {
   "cell_type": "code",
   "execution_count": 410,
   "id": "721f2348",
   "metadata": {},
   "outputs": [],
   "source": [
    "C1 =DT3.corr()"
   ]
  },
  {
   "cell_type": "code",
   "execution_count": 411,
   "id": "0da14506",
   "metadata": {},
   "outputs": [
    {
     "data": {
      "text/plain": [
       "<AxesSubplot:>"
      ]
     },
     "execution_count": 411,
     "metadata": {},
     "output_type": "execute_result"
    },
    {
     "data": {
      "image/png": "[encoded data removed]",
      "text/plain": [
       "<Figure size 432x288 with 2 Axes>"
      ]
     },
     "metadata": {
      "needs_background": "light"
     },
     "output_type": "display_data"
    }
   ],
   "source": [
    " sns.heatmap(C1, \n",
    "  xticklabels=C1.columns,\n",
    "  yticklabels=C1.columns,annot=True)"
   ]
  },
  {
   "cell_type": "markdown",
   "id": "221e7f23",
   "metadata": {},
   "source": [
    "# USPV - FS(-) across the attributes in the dataset "
   ]
  },
  {
   "cell_type": "code",
   "execution_count": 412,
   "id": "ff3762ff",
   "metadata": {},
   "outputs": [
    {
     "data": {
      "text/html": [
       "<div>\n",
       "<style scoped>\n",
       "    .dataframe tbody tr th:only-of-type {\n",
       "        vertical-align: middle;\n",
       "    }\n",
       "\n",
       "    .dataframe tbody tr th {\n",
       "        vertical-align: top;\n",
       "    }\n",
       "\n",
       "    .dataframe thead th {\n",
       "        text-align: right;\n",
       "    }\n",
       "</style>\n",
       "<table border=\"1\" class=\"dataframe\">\n",
       "  <thead>\n",
       "    <tr style=\"text-align: right;\">\n",
       "      <th></th>\n",
       "      <th>SF</th>\n",
       "      <th>DPE</th>\n",
       "      <th>PPE</th>\n",
       "    </tr>\n",
       "  </thead>\n",
       "  <tbody>\n",
       "    <tr>\n",
       "      <th>CS</th>\n",
       "      <td>69.100000</td>\n",
       "      <td>71.366667</td>\n",
       "      <td>69.233333</td>\n",
       "    </tr>\n",
       "    <tr>\n",
       "      <th>D</th>\n",
       "      <td>2527.233333</td>\n",
       "      <td>2513.300000</td>\n",
       "      <td>2517.433333</td>\n",
       "    </tr>\n",
       "    <tr>\n",
       "      <th>WA</th>\n",
       "      <td>1.384273</td>\n",
       "      <td>1.320517</td>\n",
       "      <td>1.000069</td>\n",
       "    </tr>\n",
       "    <tr>\n",
       "      <th>USPV</th>\n",
       "      <td>4.592078</td>\n",
       "      <td>4.775477</td>\n",
       "      <td>4.703117</td>\n",
       "    </tr>\n",
       "    <tr>\n",
       "      <th>FS</th>\n",
       "      <td>10.132667</td>\n",
       "      <td>8.122667</td>\n",
       "      <td>9.203000</td>\n",
       "    </tr>\n",
       "  </tbody>\n",
       "</table>\n",
       "</div>"
      ],
      "text/plain": [
       "               SF          DPE          PPE\n",
       "CS      69.100000    71.366667    69.233333\n",
       "D     2527.233333  2513.300000  2517.433333\n",
       "WA       1.384273     1.320517     1.000069\n",
       "USPV     4.592078     4.775477     4.703117\n",
       "FS      10.132667     8.122667     9.203000"
      ]
     },
     "execution_count": 412,
     "metadata": {},
     "output_type": "execute_result"
    }
   ],
   "source": [
    "dataF1 = pd.DataFrame({\n",
    "\"SF\":[SF21,SF22,SF23,SF24,SF25],\n",
    "\"DPE\":[DPE21,DPE22,DPE23,DPE24,DPE25],\n",
    "\"PPE\":[PPE21,PPE22,PPE23,PPE24,PPE25],\n",
    "},\n",
    "index =['CS','D','WA','USPV','FS'])\n",
    "dataF1.head()\n"
   ]
  },
  {
   "cell_type": "code",
   "execution_count": 413,
   "id": "caa2f868",
   "metadata": {},
   "outputs": [],
   "source": [
    "dataF1T = dataF1.T"
   ]
  },
  {
   "cell_type": "code",
   "execution_count": 414,
   "id": "b4a4e2e3",
   "metadata": {
    "scrolled": true
   },
   "outputs": [],
   "source": [
    "Co = dataF1T.corr()"
   ]
  },
  {
   "cell_type": "code",
   "execution_count": 415,
   "id": "367f3436",
   "metadata": {},
   "outputs": [
    {
     "data": {
      "text/plain": [
       "<AxesSubplot:>"
      ]
     },
     "execution_count": 415,
     "metadata": {},
     "output_type": "execute_result"
    },
    {
     "data": {
      "image/png": "[encoded data removed]",
      "text/plain": [
       "<Figure size 432x288 with 2 Axes>"
      ]
     },
     "metadata": {
      "needs_background": "light"
     },
     "output_type": "display_data"
    }
   ],
   "source": [
    "sns.heatmap(Co, \n",
    "        xticklabels=Co.columns,\n",
    "        yticklabels=Co.columns,annot=True)"
   ]
  },
  {
   "cell_type": "code",
   "execution_count": 416,
   "id": "bfd4a029",
   "metadata": {},
   "outputs": [
    {
     "name": "stdout",
     "output_type": "stream",
     "text": [
      "[4.964685287105314, 0.29999999999999716, 2.210912330539885]\n",
      "[4.7582069451983, 4.90230897979037, 4.47426344031432]\n",
      "[2.277154657315427, 3.583759664560852, 4.5859895333504666]\n"
     ]
    },
    {
     "data": {
      "image/png": "[encoded data removed]",
      "text/plain": [
       "<Figure size 432x288 with 1 Axes>"
      ]
     },
     "metadata": {
      "needs_background": "light"
     },
     "output_type": "display_data"
    },
    {
     "name": "stdout",
     "output_type": "stream",
     "text": [
      "[24.006457464607124, 10.795523763733417, 18.871230307887455]\n",
      "[46.24489160977663, 37.00648591801173, 36.25258611464843]\n",
      "[13.476770137289355, 23.568057478997588, 32.27078141807751]\n"
     ]
    },
    {
     "data": {
      "image/png": "[encoded data removed]",
      "text/plain": [
       "<Figure size 432x288 with 1 Axes>"
      ]
     },
     "metadata": {
      "needs_background": "light"
     },
     "output_type": "display_data"
    },
    {
     "name": "stdout",
     "output_type": "stream",
     "text": [
      "[0.26288207516000955, 0.04505720277234863, 0.032819293090966595]\n",
      "[0.0720841477666847, 0.1467447622119515, 0.07173645569321284]\n",
      "[0.05303731886180927, 0.026663558701109587, 0.06843171175125229]\n"
     ]
    },
    {
     "data": {
      "image/png": "[encoded data removed]",
      "text/plain": [
       "<Figure size 432x288 with 1 Axes>"
      ]
     },
     "metadata": {
      "needs_background": "light"
     },
     "output_type": "display_data"
    },
    {
     "name": "stdout",
     "output_type": "stream",
     "text": [
      "[0.10194433815550286, 0.04550827019399907, 0.24286565244493552]\n",
      "[0.08231949593515361, 0.12842107202124878, 0.05390129700123589]\n",
      "[0.06601707727991168, 0.05517811635206865, 0.05963694143674113]\n"
     ]
    },
    {
     "data": {
      "image/png": "[encoded data removed]",
      "text/plain": [
       "<Figure size 432x288 with 1 Axes>"
      ]
     },
     "metadata": {
      "needs_background": "light"
     },
     "output_type": "display_data"
    },
    {
     "name": "stdout",
     "output_type": "stream",
     "text": [
      "[0.3563186775907214, 1.4177446878757827, 0.4582575694955843]\n",
      "[0.6928203230275505, 0.7663830634871832, 0.4582575694955842]\n",
      "[0.3543853834457627, 0.4886716689148246, 0.3464101615137763]\n"
     ]
    },
    {
     "data": {
      "image/png": "[encoded data removed]",
      "text/plain": [
       "<Figure size 432x288 with 1 Axes>"
      ]
     },
     "metadata": {
      "needs_background": "light"
     },
     "output_type": "display_data"
    },
    {
     "data": {
      "text/plain": [
       "([8.892, 9.303, 12.203], [7.903, 9.362, 7.103], [9.743, 8.963, 8.903])"
      ]
     },
     "execution_count": 416,
     "metadata": {},
     "output_type": "execute_result"
    }
   ],
   "source": [
    "plot(data21,0,Iall)\n",
    "plot(data22,1,Iall)\n",
    "plot(data23,2,Iall)\n",
    "plot(data24,3,Iall)\n",
    "plot(data25,4,Iall)\n"
   ]
  },
  {
   "cell_type": "markdown",
   "id": "306450f8",
   "metadata": {},
   "source": [
    "# Error bar to account for sample variablity"
   ]
  },
  {
   "cell_type": "markdown",
   "id": "8a324388",
   "metadata": {},
   "source": [
    "# CS-D(-),CS-USPV(+),D-USPV(-) ,D-FS(+) trend across grouped data.\n"
   ]
  },
  {
   "cell_type": "markdown",
   "id": "97b79758",
   "metadata": {},
   "source": [
    "# CS-D(-),CS-USPV(+),D-USPV(-) ,D-FS(+) trend across grouped data(Wet Dry)"
   ]
  },
  {
   "cell_type": "markdown",
   "id": "d2d6a98e",
   "metadata": {},
   "source": [
    "# Across the materials (SF,DPE,PPE): CS-D(-),USPV-CS(-),D-FS(+),WA-USPV(+)(Hot Cool)"
   ]
  },
  {
   "cell_type": "markdown",
   "id": "26db5387",
   "metadata": {},
   "source": [
    "# CS-USPV (-), CS-WP(-),D-USPV(+),D-FS(+)(both true), D-WA(+)(anomaly), USPV-WP(+),WA-FS(perfect +)¶ (Water curing)"
   ]
  },
  {
   "cell_type": "markdown",
   "id": "73ad3e53",
   "metadata": {},
   "source": [
    "#  Overall analysis : Density and Flexure Strength have positive correlation"
   ]
  },
  {
   "cell_type": "markdown",
   "id": "b2e10d1f",
   "metadata": {},
   "source": [
    " #Therefore in our further model analysis we can use either of the features to reduce multicollinearity ."
   ]
  }
 ],
 "metadata": {
  "kernelspec": {
   "display_name": "Python 3",
   "language": "python",
   "name": "python3"
  },
  "language_info": {
   "codemirror_mode": {
    "name": "ipython",
    "version": 3
   },
   "file_extension": ".py",
   "mimetype": "text/x-python",
   "name": "python",
   "nbconvert_exporter": "python",
   "pygments_lexer": "ipython3",
   "version": "3.8.8"
  }
 },
 "nbformat": 4,
 "nbformat_minor": 5
}
